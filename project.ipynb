{
 "cells": [
  {
   "cell_type": "markdown",
   "id": "c6395a03-20af-4fdc-bb17-fa655130a9a5",
   "metadata": {},
   "source": [
    "## Menu\n",
    "Your program should display a menu like the following and wait for the input of the user:"
   ]
  },
  {
   "cell_type": "code",
   "execution_count": 3,
   "id": "e31261be-60d5-4726-a256-c1d67e9b5b22",
   "metadata": {},
   "outputs": [],
   "source": [
    "def menu():\n",
    "    print(\"*\" * 80)\n",
    "    print(\"* PDB FILE ANALYZER %60s\" %'*')\n",
    "    print(\"*\" * 80)\n",
    "    print(\"* Select an option from below:%50s\" %'*')\n",
    "    print(\"*%79s\" %'*')\n",
    "    print(\"* %5s 1) Open a PDB File %22s (O) %26s\" %('','','*'))\n",
    "    print(\"* %5s 2) Information %26s (I) %26s\"  %('','','*'))\n",
    "    print(\"* %5s 3) Show histogram of amino acids %8s (H) %26s\"  %('','','*'))\n",
    "    print(\"* %5s 4) Display Secondary Structure %10s (S) %26s\"  %('','','*'))\n",
    "    print(\"* %5s 5) Export PDB File %22s (X) %26s\"  %('','','*'))\n",
    "    print(\"* %5s 6) Exit  %32s (Q) %26s\"  %('','','*'))\n",
    "    print(\"* %78s\" %'*')\n",
    "    print(\"* %57s Current PDB: None  * \" %'')\n",
    "    print(\"*\" * 80)\n",
    "\n",
    "    \n",
    "    "
   ]
  },
  {
   "cell_type": "code",
   "execution_count": 4,
   "id": "fcd5946f-8e52-47e0-8eac-998d42390e22",
   "metadata": {},
   "outputs": [
    {
     "name": "stdout",
     "output_type": "stream",
     "text": [
      "********************************************************************************\n",
      "* PDB FILE ANALYZER                                                            *\n",
      "********************************************************************************\n",
      "* Select an option from below:                                                 *\n",
      "*                                                                              *\n",
      "*       1) Open a PDB File                        (O)                          *\n",
      "*       2) Information                            (I)                          *\n",
      "*       3) Show histogram of amino acids          (H)                          *\n",
      "*       4) Display Secondary Structure            (S)                          *\n",
      "*       5) Export PDB File                        (X)                          *\n",
      "*       6) Exit                                   (Q)                          *\n",
      "*                                                                              *\n",
      "*                                                           Current PDB: None  * \n",
      "********************************************************************************\n"
     ]
    }
   ],
   "source": [
    "menu()"
   ]
  },
  {
   "cell_type": "code",
   "execution_count": 5,
   "id": "2302237d-80db-4705-bf35-01a0b6dfb157",
   "metadata": {},
   "outputs": [],
   "source": [
    "def loadfile():\n",
    "    option=input(\":\")\n",
    "\n",
    "    while option.lower() != 'q':\n",
    "        if option.lower() == 'o':\n",
    "\n",
    "                filepath=input(f\"Enter a Valid PATH for a PDB File:\")\n",
    "\n",
    "                if filepath.endswith('.pdb'):\n",
    "\n",
    "                    try:\n",
    "                        file=open(filepath)\n",
    "                        \n",
    "\n",
    "                    except FileNotFoundError:\n",
    "                        print('No such File or Directory')\n",
    "\n",
    "                    else:\n",
    "                        print(f'The File {filepath} has been successfully loaded.')\n",
    "                        \n",
    "                        option='q'\n",
    "                        menu2(filepath,file) \n",
    "                        \n",
    "                else:\n",
    "                    print(\"File Format Not Supported. Only .pdb files !!! \") \n",
    "                    option='q'\n",
    "\n",
    "        else:\n",
    "            print(\"Invalid input,Enter the correct operation and try again or q to quit\")\n",
    "            option=input(\":\")\n",
    "    return filepath\n",
    "\n",
    "\n"
   ]
  },
  {
   "cell_type": "code",
   "execution_count": 6,
   "id": "d949d571-e19d-4d19-a8d9-77f021c34b91",
   "metadata": {},
   "outputs": [
    {
     "name": "stdin",
     "output_type": "stream",
     "text": [
      ": q\n"
     ]
    },
    {
     "ename": "UnboundLocalError",
     "evalue": "local variable 'filepath' referenced before assignment",
     "output_type": "error",
     "traceback": [
      "\u001b[0;31m---------------------------------------------------------------------------\u001b[0m",
      "\u001b[0;31mUnboundLocalError\u001b[0m                         Traceback (most recent call last)",
      "\u001b[0;32m/tmp/ipykernel_3259/61848721.py\u001b[0m in \u001b[0;36m<module>\u001b[0;34m\u001b[0m\n\u001b[0;32m----> 1\u001b[0;31m \u001b[0mloadfile\u001b[0m\u001b[0;34m(\u001b[0m\u001b[0;34m)\u001b[0m\u001b[0;34m\u001b[0m\u001b[0;34m\u001b[0m\u001b[0m\n\u001b[0m",
      "\u001b[0;32m/tmp/ipykernel_3259/4265649436.py\u001b[0m in \u001b[0;36mloadfile\u001b[0;34m()\u001b[0m\n\u001b[1;32m     29\u001b[0m             \u001b[0mprint\u001b[0m\u001b[0;34m(\u001b[0m\u001b[0;34m\"Invalid input,Enter the correct operation and try again or q to quit\"\u001b[0m\u001b[0;34m)\u001b[0m\u001b[0;34m\u001b[0m\u001b[0;34m\u001b[0m\u001b[0m\n\u001b[1;32m     30\u001b[0m             \u001b[0moption\u001b[0m\u001b[0;34m=\u001b[0m\u001b[0minput\u001b[0m\u001b[0;34m(\u001b[0m\u001b[0;34m\":\"\u001b[0m\u001b[0;34m)\u001b[0m\u001b[0;34m\u001b[0m\u001b[0;34m\u001b[0m\u001b[0m\n\u001b[0;32m---> 31\u001b[0;31m     \u001b[0;32mreturn\u001b[0m \u001b[0mfilepath\u001b[0m\u001b[0;34m\u001b[0m\u001b[0;34m\u001b[0m\u001b[0m\n\u001b[0m\u001b[1;32m     32\u001b[0m \u001b[0;34m\u001b[0m\u001b[0m\n\u001b[1;32m     33\u001b[0m \u001b[0;34m\u001b[0m\u001b[0m\n",
      "\u001b[0;31mUnboundLocalError\u001b[0m: local variable 'filepath' referenced before assignment"
     ]
    }
   ],
   "source": [
    "loadfile()"
   ]
  },
  {
   "cell_type": "code",
   "execution_count": 7,
   "id": "2ca37514-813f-4a0c-aa9d-8f3e6e1fb1ac",
   "metadata": {},
   "outputs": [],
   "source": [
    "def menu2(filepath,file):\n",
    "    print(\"*\" * 80)\n",
    "    print(\"* PDB FILE ANALYZER %60s\" %'*')\n",
    "    print(\"*\" * 80)\n",
    "    print(\"* Select an option from below:%50s\" %'*')\n",
    "    print(\"*%79s\" %'*')\n",
    "    print(\"* %5s 1) Open a PDB File %22s (O) %26s\" %('','','*'))\n",
    "    print(\"* %5s 2) Information %26s (I) %26s\"  %('','','*'))\n",
    "    print(\"* %5s 3) Show histogram of amino acids %8s (H) %26s\"  %('','','*'))\n",
    "    print(\"* %5s 4) Display Secondary Structure %10s (S) %26s\"  %('','','*'))\n",
    "    print(\"* %5s 5) Export PDB File %22s (X) %26s\"  %('','','*'))\n",
    "    print(\"* %5s 6) Exit  %32s (Q) %26s\"  %('','','*'))\n",
    "    print(\"* %78s\" %'*')\n",
    "    print(f\"* {('Current PDB:'+ filepath).rjust(76)} * \")\n",
    "    print(\"*\" * 80)\n",
    "    \n",
    "    # for line in file.readlines():\n",
    "    #     print(line)"
   ]
  },
  {
   "cell_type": "code",
   "execution_count": 8,
   "id": "57699bd2-ee24-408f-aaee-beed692c39b9",
   "metadata": {},
   "outputs": [],
   "source": [
    "\n",
    "def mainmenu():\n",
    "    menu()\n",
    "    loadfile()\n",
    "    "
   ]
  },
  {
   "cell_type": "code",
   "execution_count": 9,
   "id": "82be216b-76e8-4922-a6ba-e70d22bee8fe",
   "metadata": {},
   "outputs": [
    {
     "name": "stdout",
     "output_type": "stream",
     "text": [
      "********************************************************************************\n",
      "* PDB FILE ANALYZER                                                            *\n",
      "********************************************************************************\n",
      "* Select an option from below:                                                 *\n",
      "*                                                                              *\n",
      "*       1) Open a PDB File                        (O)                          *\n",
      "*       2) Information                            (I)                          *\n",
      "*       3) Show histogram of amino acids          (H)                          *\n",
      "*       4) Display Secondary Structure            (S)                          *\n",
      "*       5) Export PDB File                        (X)                          *\n",
      "*       6) Exit                                   (Q)                          *\n",
      "*                                                                              *\n",
      "*                                                           Current PDB: None  * \n",
      "********************************************************************************\n"
     ]
    },
    {
     "name": "stdin",
     "output_type": "stream",
     "text": [
      ": q\n"
     ]
    },
    {
     "ename": "UnboundLocalError",
     "evalue": "local variable 'filepath' referenced before assignment",
     "output_type": "error",
     "traceback": [
      "\u001b[0;31m---------------------------------------------------------------------------\u001b[0m",
      "\u001b[0;31mUnboundLocalError\u001b[0m                         Traceback (most recent call last)",
      "\u001b[0;32m/tmp/ipykernel_3259/2581151678.py\u001b[0m in \u001b[0;36m<module>\u001b[0;34m\u001b[0m\n\u001b[0;32m----> 1\u001b[0;31m \u001b[0mmainmenu\u001b[0m\u001b[0;34m(\u001b[0m\u001b[0;34m)\u001b[0m\u001b[0;34m\u001b[0m\u001b[0;34m\u001b[0m\u001b[0m\n\u001b[0m",
      "\u001b[0;32m/tmp/ipykernel_3259/3575063959.py\u001b[0m in \u001b[0;36mmainmenu\u001b[0;34m()\u001b[0m\n\u001b[1;32m      1\u001b[0m \u001b[0;32mdef\u001b[0m \u001b[0mmainmenu\u001b[0m\u001b[0;34m(\u001b[0m\u001b[0;34m)\u001b[0m\u001b[0;34m:\u001b[0m\u001b[0;34m\u001b[0m\u001b[0;34m\u001b[0m\u001b[0m\n\u001b[1;32m      2\u001b[0m     \u001b[0mmenu\u001b[0m\u001b[0;34m(\u001b[0m\u001b[0;34m)\u001b[0m\u001b[0;34m\u001b[0m\u001b[0;34m\u001b[0m\u001b[0m\n\u001b[0;32m----> 3\u001b[0;31m     \u001b[0mloadfile\u001b[0m\u001b[0;34m(\u001b[0m\u001b[0;34m)\u001b[0m\u001b[0;34m\u001b[0m\u001b[0;34m\u001b[0m\u001b[0m\n\u001b[0m\u001b[1;32m      4\u001b[0m \u001b[0;34m\u001b[0m\u001b[0m\n",
      "\u001b[0;32m/tmp/ipykernel_3259/4265649436.py\u001b[0m in \u001b[0;36mloadfile\u001b[0;34m()\u001b[0m\n\u001b[1;32m     29\u001b[0m             \u001b[0mprint\u001b[0m\u001b[0;34m(\u001b[0m\u001b[0;34m\"Invalid input,Enter the correct operation and try again or q to quit\"\u001b[0m\u001b[0;34m)\u001b[0m\u001b[0;34m\u001b[0m\u001b[0;34m\u001b[0m\u001b[0m\n\u001b[1;32m     30\u001b[0m             \u001b[0moption\u001b[0m\u001b[0;34m=\u001b[0m\u001b[0minput\u001b[0m\u001b[0;34m(\u001b[0m\u001b[0;34m\":\"\u001b[0m\u001b[0;34m)\u001b[0m\u001b[0;34m\u001b[0m\u001b[0;34m\u001b[0m\u001b[0m\n\u001b[0;32m---> 31\u001b[0;31m     \u001b[0;32mreturn\u001b[0m \u001b[0mfilepath\u001b[0m\u001b[0;34m\u001b[0m\u001b[0;34m\u001b[0m\u001b[0m\n\u001b[0m\u001b[1;32m     32\u001b[0m \u001b[0;34m\u001b[0m\u001b[0m\n\u001b[1;32m     33\u001b[0m \u001b[0;34m\u001b[0m\u001b[0m\n",
      "\u001b[0;31mUnboundLocalError\u001b[0m: local variable 'filepath' referenced before assignment"
     ]
    }
   ],
   "source": [
    "mainmenu()"
   ]
  },
  {
   "cell_type": "code",
   "execution_count": 10,
   "id": "5ba30ce1-ef7f-4b93-b801-ca09f5729105",
   "metadata": {},
   "outputs": [],
   "source": [
    "\n"
   ]
  },
  {
   "cell_type": "code",
   "execution_count": 11,
   "id": "0af6899a-26f6-4cd3-bb00-86dc6c68a83a",
   "metadata": {},
   "outputs": [
    {
     "name": "stdin",
     "output_type": "stream",
     "text": [
      ": o\n",
      "Enter a Valid PATH for a PDB File: 3AYU.pdb\n"
     ]
    },
    {
     "name": "stdout",
     "output_type": "stream",
     "text": [
      "The File 3AYU.pdb has been successfully loaded.\n",
      "********************************************************************************\n",
      "* PDB FILE ANALYZER                                                            *\n",
      "********************************************************************************\n",
      "* Select an option from below:                                                 *\n",
      "*                                                                              *\n",
      "*       1) Open a PDB File                        (O)                          *\n",
      "*       2) Information                            (I)                          *\n",
      "*       3) Show histogram of amino acids          (H)                          *\n",
      "*       4) Display Secondary Structure            (S)                          *\n",
      "*       5) Export PDB File                        (X)                          *\n",
      "*       6) Exit                                   (Q)                          *\n",
      "*                                                                              *\n",
      "*                                                         Current PDB:3AYU.pdb * \n",
      "********************************************************************************\n",
      "PDB File: 3AYU.pdb\n",
      "TITLE: CRYSTAL STRUCTURE OF MMP-2 ACTIVE SITE MUTANT IN COMPLEX WITH APP-2 DRIVED DECAPEPTIDE INHIBITOR\n"
     ]
    }
   ],
   "source": [
    "information()"
   ]
  },
  {
   "cell_type": "code",
   "execution_count": 14,
   "id": "571b65c7-ac9b-4a77-87c5-65ddf956a685",
   "metadata": {},
   "outputs": [],
   "source": [
    "def information():\n",
    "    filepath=loadfile()\n",
    "    print(f'PDB File: {filepath}')\n",
    "    string=''\n",
    "    chainlist=[]\n",
    "    aminoaa=[]\n",
    "    aminoaa2=[]\n",
    "    helix=[]\n",
    "    sheets=[]\n",
    "    sheetdict={}\n",
    "    aaseq=''\n",
    "    seqlines = \"\"\n",
    "    col = 0\n",
    "    for line in open(filepath).readlines():\n",
    "        listlines= line.split()\n",
    "        colname=listlines[0]\n",
    "        if colname == 'TITLE':\n",
    "            head=listlines[1:]\n",
    "            title=' '.join(head)\n",
    "            string+=title\n",
    "        if colname == 'SEQRES':\n",
    "            chain=listlines[2]\n",
    "            #print(chain)\n",
    "            if chain == 'A':\n",
    "                seq=listlines[4:]\n",
    "                \n",
    "                aaseq+=' '.join(seq)+\" \"\n",
    "               # print(aaseq)\n",
    "                    \n",
    "            #chainlist=[]\n",
    "            typeofchain=listlines[2]\n",
    "            noofaa=listlines[3]\n",
    "            for i in typeofchain:  \n",
    "                if i not in chainlist:\n",
    "                    chainlist.append(i)\n",
    "            for i in noofaa:\n",
    "                aminoaa.append(i)\n",
    "            for i in range(0,len(aminoaa),3):\n",
    "                group=aminoaa[i:i+3]\n",
    "                aminoaa=[]\n",
    "                aminoaa2.append(''.join(group))\n",
    "            \n",
    "        if colname == 'HELIX':\n",
    "            helices=listlines[4]\n",
    "            for i in helices:\n",
    "                helix.append(i)\n",
    "                \n",
    "        if colname == 'SHEET':\n",
    "            sheet=listlines[5]\n",
    "            for i in sheet:\n",
    "                sheets.append(i)\n",
    "                \n",
    "                for i in sheets:\n",
    "                    sheetdict[i]=sheets.count(i)\n",
    "    for word in aaseq.split():\n",
    "        end_col = col + len(word)\n",
    "        if col != 0:\n",
    "            end_col += 1\n",
    "        if end_col > 50: \n",
    "            seqlines += '\\n' + ' '*17\n",
    "            col = 0    \n",
    "        if col != 0:\n",
    "            seqlines += ' ' \n",
    "            col += 1\n",
    "        col += len(word)\n",
    "        seqlines += word \n",
    "    \n",
    "    chainno=chainlist[0]\n",
    "    \n",
    "    print('TITLE:%s '%string)\n",
    "    print(f'CHAINS', *chainlist)\n",
    "    print(' - Chain %s'%chainlist[0])\n",
    "    print('%3s Number of amino acids: %s' %('',aminoaa2[0]))\n",
    "    print('%3s Number of helix:%8s%s' %('',(len(helix)),''))\n",
    "    print('%3s Number of sheets:%7s%s' %('',(sheetdict[chainno]),''))\n",
    "    print('%3s Sequences:  '%(''), seqlines)"
   ]
  },
  {
   "cell_type": "code",
   "execution_count": 15,
   "id": "66b7c1e2-7a3b-47cd-a453-1720955ed9c0",
   "metadata": {},
   "outputs": [
    {
     "name": "stdin",
     "output_type": "stream",
     "text": [
      ": o\n",
      "Enter a Valid PATH for a PDB File: 3AYU.pdb\n"
     ]
    },
    {
     "name": "stdout",
     "output_type": "stream",
     "text": [
      "The File 3AYU.pdb has been successfully loaded.\n",
      "********************************************************************************\n",
      "* PDB FILE ANALYZER                                                            *\n",
      "********************************************************************************\n",
      "* Select an option from below:                                                 *\n",
      "*                                                                              *\n",
      "*       1) Open a PDB File                        (O)                          *\n",
      "*       2) Information                            (I)                          *\n",
      "*       3) Show histogram of amino acids          (H)                          *\n",
      "*       4) Display Secondary Structure            (S)                          *\n",
      "*       5) Export PDB File                        (X)                          *\n",
      "*       6) Exit                                   (Q)                          *\n",
      "*                                                                              *\n",
      "*                                                         Current PDB:3AYU.pdb * \n",
      "********************************************************************************\n",
      "PDB File: 3AYU.pdb\n",
      "TITLE:CRYSTAL STRUCTURE OF MMP-2 ACTIVE SITE MUTANT IN COMPLEX WITH APP-2 DRIVED DECAPEPTIDE INHIBITOR \n",
      "CHAINS A B\n",
      " - Chain A\n",
      "    Number of amino acids: 167\n",
      "    Number of helix:       3\n",
      "    Number of sheets:      9\n",
      "    Sequences:   TYR ASN PHE PHE PRO ARG LYS PRO LYS TRP ASP LYS\n",
      "                 ASN GLN ILE THR TYR ARG ILE ILE GLY TYR THR PRO\n",
      "                 ASP LEU ASP PRO GLU THR VAL ASP ASP ALA PHE ALA\n",
      "                 ARG ALA PHE GLN VAL TRP SER ASP VAL THR PRO LEU\n",
      "                 ARG PHE SER ARG ILE HIS ASP GLY GLU ALA ASP ILE\n",
      "                 MET ILE ASN PHE GLY ARG TRP GLU HIS GLY ASP GLY\n",
      "                 TYR PRO PHE ASP GLY LYS ASP GLY LEU LEU ALA HIS\n",
      "                 ALA PHE ALA PRO GLY THR GLY VAL GLY GLY ASP SER\n",
      "                 HIS PHE ASP ASP ASP GLU LEU TRP THR LEU GLY LYS\n",
      "                 GLY VAL GLY TYR SER LEU PHE LEU VAL ALA ALA HIS\n",
      "                 ALA PHE GLY HIS ALA MET GLY LEU GLU HIS SER GLN\n",
      "                 ASP PRO GLY ALA LEU MET ALA PRO ILE TYR THR TYR\n",
      "                 THR LYS ASN PHE ARG LEU SER GLN ASP ASP ILE LYS\n",
      "                 GLY ILE GLN GLU LEU TYR GLY ALA SER PRO ASP\n"
     ]
    }
   ],
   "source": [
    "information()"
   ]
  },
  {
   "cell_type": "code",
   "execution_count": null,
   "id": "02422531-9b21-4797-b815-e1a32a7e1bc7",
   "metadata": {},
   "outputs": [],
   "source": [
    "print(f'PDB File: {path}')\n",
    "with open('3AYU.pdb') as filename:\n",
    "    string=''\n",
    "    for line in filename.readlines():\n",
    "        file= line.split()\n",
    "        colname=file[0]\n",
    "        if colname == 'TITLE':\n",
    "            head=file[1:]\n",
    "            title=' '.join(head)\n",
    "            string+=title\n",
    "      \n",
    "            \n",
    "    print(string)\n",
    "        "
   ]
  },
  {
   "cell_type": "code",
   "execution_count": null,
   "id": "9203ea1d-0a63-4935-8468-b0a905b63589",
   "metadata": {},
   "outputs": [],
   "source": []
  },
  {
   "cell_type": "code",
   "execution_count": null,
   "id": "a65e54ca-5a9a-42a9-ac84-e0683d745955",
   "metadata": {},
   "outputs": [],
   "source": [
    "with open('3AYU.pdb') as filename:\n",
    "    for line in filename.readlines():\n",
    "        file= line.split()\n",
    "        UDA=file[0]\n",
    "        if UDA=='HELIX':\n",
    "            chain=file[4]\n",
    "            content=file[0:]\n",
    "            stre=str(content)\n",
    "            #print(stre)\n",
    "            \n",
    "            print('\\t'.join(content))"
   ]
  },
  {
   "cell_type": "code",
   "execution_count": 33,
   "id": "763b712b-49da-4623-a3f9-0bebe9852be5",
   "metadata": {},
   "outputs": [],
   "source": [
    "def informationB(filepath):\n",
    "    #filepath=loadfile()\n",
    "    #print(f'PDB File: {filepath}')\n",
    "    stringb=''\n",
    "    chainlistb=[]\n",
    "    aminoaab=[]\n",
    "    aminono={}\n",
    "    aminoaa2b=[]\n",
    "    aminonolist=[]\n",
    "    helixb=[]\n",
    "    sheetsb=[]\n",
    "    sheetdictb={}\n",
    "    aaseqb=''\n",
    "    seqlinesb = \"\"\n",
    "    col = 0\n",
    "    aaseqb=''\n",
    "    for line in open(filepath).readlines():\n",
    "        listlines= line.split()\n",
    "        colname=listlines[0]\n",
    "        if colname == 'TITLE':\n",
    "            head=listlines[1:]\n",
    "            title=' '.join(head)\n",
    "            stringb+=title\n",
    "        if colname == 'SEQRES':\n",
    "            chain=listlines[2]\n",
    "            #print(chain)\n",
    "            if chain == 'B':\n",
    "                seq=listlines[4:]\n",
    "                \n",
    "                aaseqb+=' '.join(seq)+\" \"\n",
    "               # print(aaseq)\n",
    "            \n",
    "            #chainlist=[]\n",
    "            typeofchain=listlines[2]\n",
    "            noofaa=listlines[3]\n",
    "            for i in typeofchain:  \n",
    "                if i not in chainlistb:\n",
    "                    chainlistb.append(i)\n",
    "            for i in noofaa:\n",
    "                aminoaab.append(i)\n",
    "            for i in range(0,len(aminoaab),3):\n",
    "                group=aminoaab[i:i+3]\n",
    "                aminoaab=[]\n",
    "                aminoaa2b.append(''.join(group))\n",
    "                aminono=set(aminoaa2b)\n",
    "                aminonolist=list(aminono)\n",
    "            \n",
    "        if colname == 'HELIX':\n",
    "            helices=listlines[4]\n",
    "            if helices=='B':\n",
    "                for i in helices:\n",
    "                    helixb.append(i)\n",
    "                \n",
    "        if colname == 'SHEET':\n",
    "            sheet=listlines[5]\n",
    "            for i in sheet:\n",
    "                sheetsb.append(i)\n",
    "                \n",
    "                for i in sheetsb:\n",
    "                    sheetdictb[i]=sheetsb.count(i)\n",
    "    for word in aaseqb.split():\n",
    "        end_col = col + len(word)\n",
    "        if col != 0:\n",
    "            end_col += 1\n",
    "        if end_col > 50: \n",
    "            seqlinesb += '\\n' + ' '*17\n",
    "            col = 0    \n",
    "        if col != 0:\n",
    "            seqlinesb += ' ' \n",
    "            col += 1\n",
    "        col += len(word)\n",
    "        seqlinesb += word \n",
    "    \n",
    "    chainno=chainlistb[1]\n",
    "    print(' - Chain %s'%chainlistb[1])\n",
    "    print('%3s Number of amino acids: %s' %('',aminonolist[1]))\n",
    "    print('%3s Number of helix:%8s%s' %('',(len(helixb)),''))\n",
    "    print('%3s Number of sheets:%7s%s' %('',(sheetdictb[chainno]),''))\n",
    "    print('%3s Sequences:  '%(''), seqlinesb)  \n",
    "    "
   ]
  },
  {
   "cell_type": "code",
   "execution_count": 34,
   "id": "28c1a50f-47bd-4d35-a390-a553ea2dc189",
   "metadata": {},
   "outputs": [
    {
     "name": "stdout",
     "output_type": "stream",
     "text": [
      " - Chain B\n",
      "    Number of amino acids: 10\n",
      "    Number of helix:       0\n",
      "    Number of sheets:      1\n",
      "    Sequences:   ILE SER TYR GLY ASN ASP ALA LEU MET PRO\n"
     ]
    }
   ],
   "source": [
    "informationB('./3AYU.pdb')"
   ]
  },
  {
   "cell_type": "code",
   "execution_count": 35,
   "id": "f674ff0a-0976-4d39-bbda-3c975d34cbc0",
   "metadata": {},
   "outputs": [],
   "source": [
    "def informationA():\n",
    "    filepath=loadfile()\n",
    "    print(f'PDB File: {filepath}')\n",
    "    string=''\n",
    "    chainlist=[]\n",
    "    aminoaa=[]\n",
    "    aminoaa2=[]\n",
    "    helix=[]\n",
    "    sheets=[]\n",
    "    sheetdict={}\n",
    "    aaseq=''\n",
    "    seqlines = \"\"\n",
    "    col = 0\n",
    "    aaseqB=''\n",
    "    for line in open(filepath).readlines():\n",
    "        listlines= line.split()\n",
    "        colname=listlines[0]\n",
    "        if colname == 'TITLE':\n",
    "            head=listlines[1:]\n",
    "            title=' '.join(head)\n",
    "            string+=title\n",
    "        if colname == 'SEQRES':\n",
    "            chain=listlines[2]\n",
    "            #print(chain)\n",
    "            if chain == 'A':\n",
    "                seq=listlines[4:]\n",
    "                \n",
    "                aaseq+=' '.join(seq)+\" \"\n",
    "               # print(aaseq)\n",
    "            \n",
    "            #chainlist=[]\n",
    "            typeofchain=listlines[2]\n",
    "            noofaa=listlines[3]\n",
    "            for i in typeofchain:  \n",
    "                if i not in chainlist:\n",
    "                    chainlist.append(i)\n",
    "            for i in noofaa:\n",
    "                aminoaa.append(i)\n",
    "            for i in range(0,len(aminoaa),3):\n",
    "                group=aminoaa[i:i+3]\n",
    "                aminoaa=[]\n",
    "                aminoaa2.append(''.join(group))\n",
    "            \n",
    "        if colname == 'HELIX':\n",
    "            helices=listlines[4]\n",
    "            for i in helices:\n",
    "                helix.append(i)\n",
    "                \n",
    "        if colname == 'SHEET':\n",
    "            sheet=listlines[5]\n",
    "            for i in sheet:\n",
    "                sheets.append(i)\n",
    "                \n",
    "                for i in sheets:\n",
    "                    sheetdict[i]=sheets.count(i)\n",
    "    for word in aaseq.split():\n",
    "        end_col = col + len(word)\n",
    "        if col != 0:\n",
    "            end_col += 1\n",
    "        if end_col > 50: \n",
    "            seqlines += '\\n' + ' '*17\n",
    "            col = 0    \n",
    "        if col != 0:\n",
    "            seqlines += ' ' \n",
    "            col += 1\n",
    "        col += len(word)\n",
    "        seqlines += word \n",
    "    \n",
    "    chainno=chainlist[0]\n",
    "    \n",
    "    print('TITLE:%s '%string)\n",
    "    print(f'CHAINS', *chainlist)\n",
    "    print(' - Chain %s'%chainlist[0])\n",
    "    print('%3s Number of amino acids: %s' %('',aminoaa2[0]))\n",
    "    print('%3s Number of helix:%8s%s' %('',(len(helix)),''))\n",
    "    print('%3s Number of sheets:%7s%s' %('',(sheetdict[chainno]),''))\n",
    "    print('%3s Sequences:  '%(''), seqlines)\n",
    "    informationB(filepath)\n",
    "    "
   ]
  },
  {
   "cell_type": "code",
   "execution_count": 36,
   "id": "a7460a3a-ce8e-4da5-9b87-0495fd7d7510",
   "metadata": {},
   "outputs": [
    {
     "name": "stdin",
     "output_type": "stream",
     "text": [
      ": o\n",
      "Enter a Valid PATH for a PDB File: 3AYU.pdb\n"
     ]
    },
    {
     "name": "stdout",
     "output_type": "stream",
     "text": [
      "The File 3AYU.pdb has been successfully loaded.\n",
      "********************************************************************************\n",
      "* PDB FILE ANALYZER                                                            *\n",
      "********************************************************************************\n",
      "* Select an option from below:                                                 *\n",
      "*                                                                              *\n",
      "*       1) Open a PDB File                        (O)                          *\n",
      "*       2) Information                            (I)                          *\n",
      "*       3) Show histogram of amino acids          (H)                          *\n",
      "*       4) Display Secondary Structure            (S)                          *\n",
      "*       5) Export PDB File                        (X)                          *\n",
      "*       6) Exit                                   (Q)                          *\n",
      "*                                                                              *\n",
      "*                                                         Current PDB:3AYU.pdb * \n",
      "********************************************************************************\n",
      "PDB File: 3AYU.pdb\n",
      "TITLE:CRYSTAL STRUCTURE OF MMP-2 ACTIVE SITE MUTANT IN COMPLEX WITH APP-2 DRIVED DECAPEPTIDE INHIBITOR \n",
      "CHAINS A B\n",
      " - Chain A\n",
      "    Number of amino acids: 167\n",
      "    Number of helix:       3\n",
      "    Number of sheets:      9\n",
      "    Sequences:   TYR ASN PHE PHE PRO ARG LYS PRO LYS TRP ASP LYS\n",
      "                 ASN GLN ILE THR TYR ARG ILE ILE GLY TYR THR PRO\n",
      "                 ASP LEU ASP PRO GLU THR VAL ASP ASP ALA PHE ALA\n",
      "                 ARG ALA PHE GLN VAL TRP SER ASP VAL THR PRO LEU\n",
      "                 ARG PHE SER ARG ILE HIS ASP GLY GLU ALA ASP ILE\n",
      "                 MET ILE ASN PHE GLY ARG TRP GLU HIS GLY ASP GLY\n",
      "                 TYR PRO PHE ASP GLY LYS ASP GLY LEU LEU ALA HIS\n",
      "                 ALA PHE ALA PRO GLY THR GLY VAL GLY GLY ASP SER\n",
      "                 HIS PHE ASP ASP ASP GLU LEU TRP THR LEU GLY LYS\n",
      "                 GLY VAL GLY TYR SER LEU PHE LEU VAL ALA ALA HIS\n",
      "                 ALA PHE GLY HIS ALA MET GLY LEU GLU HIS SER GLN\n",
      "                 ASP PRO GLY ALA LEU MET ALA PRO ILE TYR THR TYR\n",
      "                 THR LYS ASN PHE ARG LEU SER GLN ASP ASP ILE LYS\n",
      "                 GLY ILE GLN GLU LEU TYR GLY ALA SER PRO ASP\n",
      " - Chain B\n",
      "    Number of amino acids: 10\n",
      "    Number of helix:       0\n",
      "    Number of sheets:      1\n",
      "    Sequences:   ILE SER TYR GLY ASN ASP ALA LEU MET PRO\n"
     ]
    }
   ],
   "source": [
    "informationA()"
   ]
  },
  {
   "cell_type": "code",
   "execution_count": null,
   "id": "c6b46bc5-6797-42cf-ae15-3926f5671064",
   "metadata": {},
   "outputs": [],
   "source": []
  }
 ],
 "metadata": {
  "kernelspec": {
   "display_name": "Python 3 (ipykernel)",
   "language": "python",
   "name": "python3"
  },
  "language_info": {
   "codemirror_mode": {
    "name": "ipython",
    "version": 3
   },
   "file_extension": ".py",
   "mimetype": "text/x-python",
   "name": "python",
   "nbconvert_exporter": "python",
   "pygments_lexer": "ipython3",
   "version": "3.9.7"
  }
 },
 "nbformat": 4,
 "nbformat_minor": 5
}
