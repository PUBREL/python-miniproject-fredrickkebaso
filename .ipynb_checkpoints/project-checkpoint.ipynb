{
 "cells": [
  {
   "cell_type": "markdown",
   "id": "c6395a03-20af-4fdc-bb17-fa655130a9a5",
   "metadata": {},
   "source": [
    "## Menu\n",
    "Your program should display a menu like the following and wait for the input of the user:"
   ]
  },
  {
   "cell_type": "code",
   "execution_count": 84,
   "id": "e31261be-60d5-4726-a256-c1d67e9b5b22",
   "metadata": {},
   "outputs": [],
   "source": [
    "def menu():\n",
    "    print(\"*\" * 80)\n",
    "    print(\"* PDB FILE ANALYZER %60s\" %'*')\n",
    "    print(\"*\" * 80)\n",
    "    print(\"* Select an option from below:%50s\" %'*')\n",
    "    print(\"*%79s\" %'*')\n",
    "    print(\"* %5s 1) Open a PDB File %22s (O) %26s\" %('','','*'))\n",
    "    print(\"* %5s 2) Information %26s (I) %26s\"  %('','','*'))\n",
    "    print(\"* %5s 3) Show histogram of amino acids %8s (H) %26s\"  %('','','*'))\n",
    "    print(\"* %5s 4) Display Secondary Structure %10s (S) %26s\"  %('','','*'))\n",
    "    print(\"* %5s 5) Export PDB File %22s (X) %26s\"  %('','','*'))\n",
    "    print(\"* %5s 6) Exit  %32s (Q) %26s\"  %('','','*'))\n",
    "    print(\"* %78s\" %'*')\n",
    "    print(\"* %57s Current PDB: None  * \" %'')\n",
    "    print(\"*\" * 80)\n",
    "\n",
    "    \n",
    "    "
   ]
  },
  {
   "cell_type": "code",
   "execution_count": 85,
   "id": "fcd5946f-8e52-47e0-8eac-998d42390e22",
   "metadata": {},
   "outputs": [
    {
     "name": "stdout",
     "output_type": "stream",
     "text": [
      "********************************************************************************\n",
      "* PDB FILE ANALYZER                                                            *\n",
      "********************************************************************************\n",
      "* Select an option from below:                                                 *\n",
      "*                                                                              *\n",
      "*       1) Open a PDB File                        (O)                          *\n",
      "*       2) Information                            (I)                          *\n",
      "*       3) Show histogram of amino acids          (H)                          *\n",
      "*       4) Display Secondary Structure            (S)                          *\n",
      "*       5) Export PDB File                        (X)                          *\n",
      "*       6) Exit                                   (Q)                          *\n",
      "*                                                                              *\n",
      "*                                                           Current PDB: None  * \n",
      "********************************************************************************\n"
     ]
    }
   ],
   "source": [
    "menu()"
   ]
  },
  {
   "cell_type": "code",
   "execution_count": 71,
   "id": "2302237d-80db-4705-bf35-01a0b6dfb157",
   "metadata": {},
   "outputs": [],
   "source": [
    "def loadfile():\n",
    "    option=input(\":\")\n",
    "\n",
    "    while option.lower() != 'q':\n",
    "        if option.lower() == 'o':\n",
    "\n",
    "                path=input(f\"Enter a Valid PATH for a PDB File:\")\n",
    "\n",
    "                if path.endswith('.pdb'):\n",
    "\n",
    "                    try:\n",
    "                        file=open(path)\n",
    "                        \n",
    "\n",
    "                    except FileNotFoundError:\n",
    "                        print('No such File or Directory')\n",
    "\n",
    "                    else:\n",
    "                        print(f'The File {path} has been successfully loaded.')\n",
    "                        \n",
    "                        option='q'\n",
    "                        menu2(path,file) \n",
    "                        \n",
    "                else:\n",
    "                    print(\"File Format Not Supported. Only .pdb files !!! \") \n",
    "                    option='q'\n",
    "\n",
    "        else:\n",
    "            print(\"Invalid input,Enter the correct operation and try again or q to quit\")\n",
    "            option=input(\":\")\n",
    "\n"
   ]
  },
  {
   "cell_type": "code",
   "execution_count": 88,
   "id": "d949d571-e19d-4d19-a8d9-77f021c34b91",
   "metadata": {},
   "outputs": [
    {
     "name": "stdin",
     "output_type": "stream",
     "text": [
      ": o\n",
      "Enter a Valid PATH for a PDB File: 3AYU-Copy1.pdb\n"
     ]
    },
    {
     "name": "stdout",
     "output_type": "stream",
     "text": [
      "The File 3AYU-Copy1.pdb has been successfully loaded.\n",
      "********************************************************************************\n",
      "* PDB FILE ANALYZER                                                            *\n",
      "********************************************************************************\n",
      "* Select an option from below:                                                 *\n",
      "*                                                                              *\n",
      "*       1) Open a PDB File                        (O)                          *\n",
      "*       2) Information                            (I)                          *\n",
      "*       3) Show histogram of amino acids          (H)                          *\n",
      "*       4) Display Secondary Structure            (S)                          *\n",
      "*       5) Export PDB File                        (X)                          *\n",
      "*       6) Exit                                   (Q)                          *\n",
      "*                                                                              *\n",
      "*                                                       Current PDB: 3AYU-Copy1.pdb  * \n",
      "********************************************************************************\n"
     ]
    }
   ],
   "source": [
    "loadfile()"
   ]
  },
  {
   "cell_type": "code",
   "execution_count": 109,
   "id": "2ca37514-813f-4a0c-aa9d-8f3e6e1fb1ac",
   "metadata": {},
   "outputs": [],
   "source": [
    "def menu2(path,file):\n",
    "    print(\"*\" * 80)\n",
    "    print(\"* PDB FILE ANALYZER %60s\" %'*')\n",
    "    print(\"*\" * 80)\n",
    "    print(\"* Select an option from below:%50s\" %'*')\n",
    "    print(\"*%79s\" %'*')\n",
    "    print(\"* %5s 1) Open a PDB File %22s (O) %26s\" %('','','*'))\n",
    "    print(\"* %5s 2) Information %26s (I) %26s\"  %('','','*'))\n",
    "    print(\"* %5s 3) Show histogram of amino acids %8s (H) %26s\"  %('','','*'))\n",
    "    print(\"* %5s 4) Display Secondary Structure %10s (S) %26s\"  %('','','*'))\n",
    "    print(\"* %5s 5) Export PDB File %22s (X) %26s\"  %('','','*'))\n",
    "    print(\"* %5s 6) Exit  %32s (Q) %26s\"  %('','','*'))\n",
    "    print(\"* %78s\" %'*')\n",
    "    print(f\"* {('Current PDB:'+ path).rjust(76)} * \")\n",
    "    print(\"*\" * 80)\n",
    "    \n",
    "    # for line in file.readlines():\n",
    "    #     print(line)"
   ]
  },
  {
   "cell_type": "code",
   "execution_count": 110,
   "id": "57699bd2-ee24-408f-aaee-beed692c39b9",
   "metadata": {},
   "outputs": [],
   "source": [
    "\n",
    "def mainmenu():\n",
    "    menu()\n",
    "    loadfile()\n",
    "    "
   ]
  },
  {
   "cell_type": "code",
   "execution_count": 111,
   "id": "82be216b-76e8-4922-a6ba-e70d22bee8fe",
   "metadata": {},
   "outputs": [
    {
     "name": "stdout",
     "output_type": "stream",
     "text": [
      "********************************************************************************\n",
      "* PDB FILE ANALYZER                                                            *\n",
      "********************************************************************************\n",
      "* Select an option from below:                                                 *\n",
      "*                                                                              *\n",
      "*       1) Open a PDB File                        (O)                          *\n",
      "*       2) Information                            (I)                          *\n",
      "*       3) Show histogram of amino acids          (H)                          *\n",
      "*       4) Display Secondary Structure            (S)                          *\n",
      "*       5) Export PDB File                        (X)                          *\n",
      "*       6) Exit                                   (Q)                          *\n",
      "*                                                                              *\n",
      "*                                                           Current PDB: None  * \n",
      "********************************************************************************\n"
     ]
    },
    {
     "name": "stdin",
     "output_type": "stream",
     "text": [
      ": o\n",
      "Enter a Valid PATH for a PDB File: wertyuisdhdchjdsbbjfdbnhbnjgfbkjgfbjgfbkjgfbkbgnkbgngkfxb.pdb\n"
     ]
    },
    {
     "name": "stdout",
     "output_type": "stream",
     "text": [
      "The File wertyuisdhdchjdsbbjfdbnhbnjgfbkjgfbjgfbkjgfbkbgnkbgngkfxb.pdb has been successfully loaded.\n",
      "********************************************************************************\n",
      "* PDB FILE ANALYZER                                                            *\n",
      "********************************************************************************\n",
      "* Select an option from below:                                                 *\n",
      "*                                                                              *\n",
      "*       1) Open a PDB File                        (O)                          *\n",
      "*       2) Information                            (I)                          *\n",
      "*       3) Show histogram of amino acids          (H)                          *\n",
      "*       4) Display Secondary Structure            (S)                          *\n",
      "*       5) Export PDB File                        (X)                          *\n",
      "*       6) Exit                                   (Q)                          *\n",
      "*                                                                              *\n",
      "*    Current PDB:wertyuisdhdchjdsbbjfdbnhbnjgfbkjgfbjgfbkjgfbkbgnkbgngkfxb.pdb * \n",
      "********************************************************************************\n"
     ]
    }
   ],
   "source": [
    "mainmenu()"
   ]
  },
  {
   "cell_type": "code",
   "execution_count": 22,
   "id": "02422531-9b21-4797-b815-e1a32a7e1bc7",
   "metadata": {},
   "outputs": [
    {
     "name": "stdout",
     "output_type": "stream",
     "text": [
      "CRYSTAL STRUCTURE OF MMP-2 ACTIVE SITE MUTANT IN COMPLEX WITH APP-2 DRIVED DECAPEPTIDE INHIBITOR\n"
     ]
    }
   ],
   "source": [
    "print(f'PDB File: {path}')\n",
    "with open('3AYU.pdb') as filename:\n",
    "    string=''\n",
    "    for line in filename.readlines():\n",
    "        file= line.split()\n",
    "        colname=file[0]\n",
    "        if colname == 'TITLE':\n",
    "            head=file[1:]\n",
    "            title=' '.join(head)\n",
    "            string+=title\n",
    "            \n",
    "    print(string)"
   ]
  },
  {
   "cell_type": "code",
   "execution_count": 10,
   "id": "a65e54ca-5a9a-42a9-ac84-e0683d745955",
   "metadata": {},
   "outputs": [
    {
     "name": "stdout",
     "output_type": "stream",
     "text": [
      "HELIX\t1\t1\tASP\tA\t27\tASP\tA\t44\t1\t18\n",
      "HELIX\t2\t2\tLEU\tA\t114\tMET\tA\t126\t1\t13\n",
      "HELIX\t3\t3\tSER\tA\t151\tGLY\tA\t163\t1\t13\n"
     ]
    }
   ],
   "source": [
    "with open('3AYU.pdb') as filename:\n",
    "    for line in filename.readlines():\n",
    "        file= line.split()\n",
    "        UDA=file[0]\n",
    "        if UDA=='HELIX':\n",
    "            chain=file[4]\n",
    "            content=file[0:]\n",
    "            stre=str(content)\n",
    "            #print(stre)\n",
    "            \n",
    "            print('\\t'.join(content))\n",
    "            \n",
    "            \n",
    "            \n",
    "            # ' '.split(content)\n",
    "            # print(file[0:],file[1],file[2],file[3],chain)\n",
    "   # file=filename.read().split()\n",
    "\n",
    "        #print(file)\n",
    "    #print(file[0])\n",
    "    # for i in file:\n",
    "    #     if i == 'HELIX':\n",
    "    #         #\n",
    "    #         #print(i)\n",
    "    #         chain=file[4]\n",
    "    #         print(chain)"
   ]
  },
  {
   "cell_type": "code",
   "execution_count": 75,
   "id": "0ef24120-d26b-407d-992d-5f929d2a7e11",
   "metadata": {},
   "outputs": [
    {
     "name": "stdout",
     "output_type": "stream",
     "text": [
      "ILE SER TYR GLY ASN ASP ALA LEU MET PRO"
     ]
    }
   ],
   "source": [
    "with open('3AYU.pdb') as filename:\n",
    "    for line in filename.readlines():\n",
    "        file= line.split()\n",
    "        id=file[0]\n",
    "        if id=='SEQRES':\n",
    "            chain=file[2]\n",
    "            #print(chain)\n",
    "            if chain == 'B':\n",
    "                content=file[4:]\n",
    "                print(' '.join(content),end='')"
   ]
  },
  {
   "cell_type": "code",
   "execution_count": 3,
   "id": "a88740dd-744c-4c9a-abc1-ae4842dd9f04",
   "metadata": {},
   "outputs": [
    {
     "data": {
      "text/plain": [
       "\u001b[0;31mSignature:\u001b[0m \u001b[0mid\u001b[0m\u001b[0;34m(\u001b[0m\u001b[0mobj\u001b[0m\u001b[0;34m,\u001b[0m \u001b[0;34m/\u001b[0m\u001b[0;34m)\u001b[0m\u001b[0;34m\u001b[0m\u001b[0;34m\u001b[0m\u001b[0m\n",
       "\u001b[0;31mDocstring:\u001b[0m\n",
       "Return the identity of an object.\n",
       "\n",
       "This is guaranteed to be unique among simultaneously existing objects.\n",
       "(CPython uses the object's memory address.)\n",
       "\u001b[0;31mType:\u001b[0m      builtin_function_or_method\n"
      ]
     },
     "metadata": {},
     "output_type": "display_data"
    }
   ],
   "source": [
    "?id"
   ]
  },
  {
   "cell_type": "code",
   "execution_count": 14,
   "id": "d0996c56-7116-48ce-afc0-e8777366715d",
   "metadata": {},
   "outputs": [
    {
     "name": "stdout",
     "output_type": "stream",
     "text": [
      "1\n",
      "1\n",
      "1\n"
     ]
    }
   ],
   "source": [
    "with open('3AYU.pdb') as filename:\n",
    "    for line in filename.readlines():\n",
    "        file= line.split()\n",
    "        id=file[0]\n",
    "        if id=='HELIX':\n",
    "            chain=file[4]\n",
    "            if chain =='A':\n",
    "                count=chain.count('A')\n",
    "                print(count)\n",
    "                \n",
    "                \n",
    "            # chain=file[4]\n",
    "            # print(len(chain),end='')\n",
    "                                \n",
    "            # count=[]\n",
    "            # if chain =='A':\n",
    "            #     for j in chain:\n",
    "            #         count.extend(j)\n",
    "            #print(count)\n",
    "                #print(file[4].count('A'),end='')\n",
    "               # print((chain))\n",
    "                \n",
    "                \n",
    "                \n",
    "                \n",
    "                \n",
    "                #print(helix)\n",
    "                #content=file[0:]\n",
    "           # stre=str(content)\n",
    "            #print(stre)\n",
    "            \n",
    "#                 helices='\\t'.join(content)\n",
    "#                 print(helices)\n",
    "            "
   ]
  },
  {
   "cell_type": "code",
   "execution_count": 19,
   "id": "af18f2ce-51da-4978-95be-3b98206717cc",
   "metadata": {},
   "outputs": [],
   "source": [
    "if id in file =='HELIX':\n",
    "            chain=file[4]\n",
    "            if chain =='A':\n",
    "                count=chain.count('A')\n",
    "                print(count)"
   ]
  },
  {
   "cell_type": "code",
   "execution_count": 18,
   "id": "af476ca5-963d-4e16-aa42-00d8e0249230",
   "metadata": {},
   "outputs": [
    {
     "ename": "NameError",
     "evalue": "name 'helices' is not defined",
     "output_type": "error",
     "traceback": [
      "\u001b[0;31m---------------------------------------------------------------------------\u001b[0m",
      "\u001b[0;31mNameError\u001b[0m                                 Traceback (most recent call last)",
      "\u001b[0;32m/tmp/ipykernel_10270/2872908980.py\u001b[0m in \u001b[0;36m<module>\u001b[0;34m\u001b[0m\n\u001b[0;32m----> 1\u001b[0;31m \u001b[0mtype\u001b[0m\u001b[0;34m(\u001b[0m\u001b[0mhelices\u001b[0m\u001b[0;34m)\u001b[0m\u001b[0;34m\u001b[0m\u001b[0;34m\u001b[0m\u001b[0m\n\u001b[0m",
      "\u001b[0;31mNameError\u001b[0m: name 'helices' is not defined"
     ]
    }
   ],
   "source": [
    "type(helices)"
   ]
  },
  {
   "cell_type": "code",
   "execution_count": 10,
   "id": "0307feca-c196-47a6-9e12-d403a0e71352",
   "metadata": {},
   "outputs": [
    {
     "data": {
      "text/plain": [
       "1"
      ]
     },
     "execution_count": 10,
     "metadata": {},
     "output_type": "execute_result"
    }
   ],
   "source": [
    "len(helices[4])"
   ]
  },
  {
   "cell_type": "code",
   "execution_count": null,
   "id": "320f4c3b-5649-4fcf-ad89-24495eabf416",
   "metadata": {},
   "outputs": [],
   "source": []
  }
 ],
 "metadata": {
  "kernelspec": {
   "display_name": "Python 3 (ipykernel)",
   "language": "python",
   "name": "python3"
  },
  "language_info": {
   "codemirror_mode": {
    "name": "ipython",
    "version": 3
   },
   "file_extension": ".py",
   "mimetype": "text/x-python",
   "name": "python",
   "nbconvert_exporter": "python",
   "pygments_lexer": "ipython3",
   "version": "3.9.7"
  }
 },
 "nbformat": 4,
 "nbformat_minor": 5
}
