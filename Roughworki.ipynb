{
 "cells": [
  {
   "cell_type": "markdown",
   "id": "c6395a03-20af-4fdc-bb17-fa655130a9a5",
   "metadata": {},
   "source": [
    "## Menu\n",
    "Your program should display a menu like the following and wait for the input of the user:"
   ]
  },
  {
   "cell_type": "code",
   "execution_count": 1,
   "id": "e31261be-60d5-4726-a256-c1d67e9b5b22",
   "metadata": {},
   "outputs": [],
   "source": [
    "def menu():\n",
    "    print(\"*\" * 80)\n",
    "    print(\"* PDB FILE ANALYZER %60s\" %'*')\n",
    "    print(\"*\" * 80)\n",
    "    print(\"* Select an option from below:%50s\" %'*')\n",
    "    print(\"*%79s\" %'*')\n",
    "    print(\"* %5s 1) Open a PDB File %22s (O) %26s\" %('','','*'))\n",
    "    print(\"* %5s 2) Information %26s (I) %26s\"  %('','','*'))\n",
    "    print(\"* %5s 3) Show histogram of amino acids %8s (H) %26s\"  %('','','*'))\n",
    "    print(\"* %5s 4) Display Secondary Structure %10s (S) %26s\"  %('','','*'))\n",
    "    print(\"* %5s 5) Export PDB File %22s (X) %26s\"  %('','','*'))\n",
    "    print(\"* %5s 6) Exit  %32s (Q) %26s\"  %('','','*'))\n",
    "    print(\"* %78s\" %'*')\n",
    "    print(\"* %57s Current PDB: None  * \" %'')\n",
    "    print(\"*\" * 80)\n",
    "\n",
    "    \n",
    "    "
   ]
  },
  {
   "cell_type": "code",
   "execution_count": 2,
   "id": "fcd5946f-8e52-47e0-8eac-998d42390e22",
   "metadata": {},
   "outputs": [
    {
     "name": "stdout",
     "output_type": "stream",
     "text": [
      "********************************************************************************\n",
      "* PDB FILE ANALYZER                                                            *\n",
      "********************************************************************************\n",
      "* Select an option from below:                                                 *\n",
      "*                                                                              *\n",
      "*       1) Open a PDB File                        (O)                          *\n",
      "*       2) Information                            (I)                          *\n",
      "*       3) Show histogram of amino acids          (H)                          *\n",
      "*       4) Display Secondary Structure            (S)                          *\n",
      "*       5) Export PDB File                        (X)                          *\n",
      "*       6) Exit                                   (Q)                          *\n",
      "*                                                                              *\n",
      "*                                                           Current PDB: None  * \n",
      "********************************************************************************\n"
     ]
    }
   ],
   "source": [
    "menu()"
   ]
  },
  {
   "cell_type": "code",
   "execution_count": 3,
   "id": "2302237d-80db-4705-bf35-01a0b6dfb157",
   "metadata": {},
   "outputs": [],
   "source": [
    "def loadfile():\n",
    "    option=input(\":\")\n",
    "\n",
    "    while option.lower() != 'q':\n",
    "        if option.lower() == 'o':\n",
    "\n",
    "                filepath=input(f\"Enter a Valid PATH for a PDB File:\")\n",
    "\n",
    "                if filepath.endswith('.pdb'):\n",
    "\n",
    "                    try:\n",
    "                        file=open(filepath)\n",
    "                        \n",
    "\n",
    "                    except FileNotFoundError:\n",
    "                        print('No such File or Directory')\n",
    "\n",
    "                    else:\n",
    "                        print(f'The File {filepath} has been successfully loaded.')\n",
    "                        \n",
    "                        option='q'\n",
    "                        menu2(filepath,file) \n",
    "                        \n",
    "                else:\n",
    "                    print(\"File Format Not Supported. Only .pdb files !!! \") \n",
    "                    option='q'\n",
    "\n",
    "        else:\n",
    "            print(\"Invalid input,Enter the correct operation and try again or q to quit\")\n",
    "            option=input(\":\")\n",
    "        return filepath\n",
    "\n"
   ]
  },
  {
   "cell_type": "code",
   "execution_count": null,
   "id": "7f8ae8c8-22db-405c-9a50-2022104dc529",
   "metadata": {},
   "outputs": [],
   "source": [
    "\n"
   ]
  },
  {
   "cell_type": "code",
   "execution_count": 4,
   "id": "d949d571-e19d-4d19-a8d9-77f021c34b91",
   "metadata": {},
   "outputs": [
    {
     "name": "stdin",
     "output_type": "stream",
     "text": [
      ": q\n"
     ]
    }
   ],
   "source": [
    "loadfile()"
   ]
  },
  {
   "cell_type": "code",
   "execution_count": 5,
   "id": "2ca37514-813f-4a0c-aa9d-8f3e6e1fb1ac",
   "metadata": {},
   "outputs": [],
   "source": [
    "def menu2(filepath,file):\n",
    "    print(\"*\" * 80)\n",
    "    print(\"* PDB FILE ANALYZER %60s\" %'*')\n",
    "    print(\"*\" * 80)\n",
    "    print(\"* Select an option from below:%50s\" %'*')\n",
    "    print(\"*%79s\" %'*')\n",
    "    print(\"* %5s 1) Open a PDB File %22s (O) %26s\" %('','','*'))\n",
    "    print(\"* %5s 2) Information %26s (I) %26s\"  %('','','*'))\n",
    "    print(\"* %5s 3) Show histogram of amino acids %8s (H) %26s\"  %('','','*'))\n",
    "    print(\"* %5s 4) Display Secondary Structure %10s (S) %26s\"  %('','','*'))\n",
    "    print(\"* %5s 5) Export PDB File %22s (X) %26s\"  %('','','*'))\n",
    "    print(\"* %5s 6) Exit  %32s (Q) %26s\"  %('','','*'))\n",
    "    print(\"* %78s\" %'*')\n",
    "    print(f\"* {('Current PDB:'+ filepath).rjust(76)} * \")\n",
    "    print(\"*\" * 80)"
   ]
  },
  {
   "cell_type": "code",
   "execution_count": 6,
   "id": "57699bd2-ee24-408f-aaee-beed692c39b9",
   "metadata": {},
   "outputs": [],
   "source": [
    "\n",
    "def mainmenu():\n",
    "    menu()\n",
    "    loadfile()\n",
    "    "
   ]
  },
  {
   "cell_type": "code",
   "execution_count": 7,
   "id": "82be216b-76e8-4922-a6ba-e70d22bee8fe",
   "metadata": {},
   "outputs": [
    {
     "name": "stdout",
     "output_type": "stream",
     "text": [
      "********************************************************************************\n",
      "* PDB FILE ANALYZER                                                            *\n",
      "********************************************************************************\n",
      "* Select an option from below:                                                 *\n",
      "*                                                                              *\n",
      "*       1) Open a PDB File                        (O)                          *\n",
      "*       2) Information                            (I)                          *\n",
      "*       3) Show histogram of amino acids          (H)                          *\n",
      "*       4) Display Secondary Structure            (S)                          *\n",
      "*       5) Export PDB File                        (X)                          *\n",
      "*       6) Exit                                   (Q)                          *\n",
      "*                                                                              *\n",
      "*                                                           Current PDB: None  * \n",
      "********************************************************************************\n"
     ]
    },
    {
     "name": "stdin",
     "output_type": "stream",
     "text": [
      ": q\n"
     ]
    }
   ],
   "source": [
    "mainmenu()"
   ]
  },
  {
   "cell_type": "code",
   "execution_count": 39,
   "id": "82863d2a-f3e8-476c-bbbc-a444813a1cd6",
   "metadata": {},
   "outputs": [],
   "source": [
    "global aaseqmain\n",
    "aaseqmainstr=''\n",
    "global aaseqmainlist\n",
    "aaseqmainlist=[]"
   ]
  },
  {
   "cell_type": "code",
   "execution_count": 9,
   "id": "02422531-9b21-4797-b815-e1a32a7e1bc7",
   "metadata": {},
   "outputs": [],
   "source": [
    "def informationA():\n",
    "    filepath=loadfile()\n",
    "    print(f'PDB File: {filepath}')\n",
    "    string=''\n",
    "    chainlist=[]\n",
    "    aminoaa=[]\n",
    "    aminoaa2=[]\n",
    "    helix=[]\n",
    "    sheets=[]\n",
    "    sheetdict={}\n",
    "    aaseq=''\n",
    "    seqlines = \"\"\n",
    "    col = 0\n",
    "    aaseqB=''\n",
    "    for line in open(filepath).readlines():\n",
    "        listlines= line.split()\n",
    "        colname=listlines[0]\n",
    "        if colname == 'TITLE':\n",
    "            head=listlines[1:]\n",
    "            title=' '.join(head)\n",
    "            string+=title\n",
    "        if colname == 'SEQRES':\n",
    "            chain=listlines[2]\n",
    "            #print(chain)\n",
    "            if chain == 'A':\n",
    "                seq=listlines[4:]\n",
    "                \n",
    "                aaseq+=' '.join(seq)+\" \"\n",
    "                #aaseqmain+=aaseq\n",
    "               # print(aaseq)\n",
    "            \n",
    "            #chainlist=[]\n",
    "            typeofchain=listlines[2]\n",
    "            noofaa=listlines[3]\n",
    "            for i in typeofchain:  \n",
    "                if i not in chainlist:\n",
    "                    chainlist.append(i)\n",
    "            for i in noofaa:\n",
    "                aminoaa.append(i)\n",
    "            for i in range(0,len(aminoaa),3):\n",
    "                group=aminoaa[i:i+3]\n",
    "                aminoaa=[]\n",
    "                aminoaa2.append(''.join(group))\n",
    "            \n",
    "        if colname == 'HELIX':\n",
    "            helices=listlines[4]\n",
    "            for i in helices:\n",
    "                helix.append(i)\n",
    "                \n",
    "        if colname == 'SHEET':\n",
    "            sheet=listlines[5]\n",
    "            for i in sheet:\n",
    "                sheets.append(i)\n",
    "                \n",
    "                for i in sheets:\n",
    "                    sheetdict[i]=sheets.count(i)\n",
    "    for word in aaseq.split():\n",
    "        end_col = col + len(word)\n",
    "        if col != 0:\n",
    "            end_col += 1\n",
    "        if end_col > 50: \n",
    "            seqlines += '\\n' + ' '*17\n",
    "            col = 0    \n",
    "        if col != 0:\n",
    "            seqlines += ' ' \n",
    "            col += 1\n",
    "        col += len(word)\n",
    "        seqlines += word \n",
    "    \n",
    "    chainno=chainlist[0]\n",
    "    \n",
    "    print('TITLE:%s '%string)\n",
    "    print(f'CHAINS', *chainlist)\n",
    "    print(' - Chain %s'%chainlist[0])\n",
    "    print('%3s Number of amino acids: %s' %('',aminoaa2[0]))\n",
    "    print('%3s Number of helix:%8s%s' %('',(len(helix)),''))\n",
    "    print('%3s Number of sheets:%7s%s' %('',(sheetdict[chainno]),''))\n",
    "    print('%3s Sequences:  '%(''), seqlines)\n",
    "    informationB(filepath)\n",
    "    \n",
    "    \n",
    "    \n",
    "    \n",
    "    \n",
    "    \n",
    "    \n",
    "    \n",
    "    \n",
    "    \n",
    "    "
   ]
  },
  {
   "cell_type": "code",
   "execution_count": 10,
   "id": "1f133dad-5d33-4d09-a060-b425e526a632",
   "metadata": {},
   "outputs": [
    {
     "name": "stdin",
     "output_type": "stream",
     "text": [
      ": o\n",
      "Enter a Valid PATH for a PDB File: 3AYU.pdb\n"
     ]
    },
    {
     "name": "stdout",
     "output_type": "stream",
     "text": [
      "The File 3AYU.pdb has been successfully loaded.\n",
      "********************************************************************************\n",
      "* PDB FILE ANALYZER                                                            *\n",
      "********************************************************************************\n",
      "* Select an option from below:                                                 *\n",
      "*                                                                              *\n",
      "*       1) Open a PDB File                        (O)                          *\n",
      "*       2) Information                            (I)                          *\n",
      "*       3) Show histogram of amino acids          (H)                          *\n",
      "*       4) Display Secondary Structure            (S)                          *\n",
      "*       5) Export PDB File                        (X)                          *\n",
      "*       6) Exit                                   (Q)                          *\n",
      "*                                                                              *\n",
      "*                                                         Current PDB:3AYU.pdb * \n",
      "********************************************************************************\n",
      "PDB File: 3AYU.pdb\n",
      "TITLE:CRYSTAL STRUCTURE OF MMP-2 ACTIVE SITE MUTANT IN COMPLEX WITH APP-2 DRIVED DECAPEPTIDE INHIBITOR \n",
      "CHAINS A B\n",
      " - Chain A\n",
      "    Number of amino acids: 167\n",
      "    Number of helix:       3\n",
      "    Number of sheets:      9\n",
      "    Sequences:   TYR ASN PHE PHE PRO ARG LYS PRO LYS TRP ASP LYS\n",
      "                 ASN GLN ILE THR TYR ARG ILE ILE GLY TYR THR PRO\n",
      "                 ASP LEU ASP PRO GLU THR VAL ASP ASP ALA PHE ALA\n",
      "                 ARG ALA PHE GLN VAL TRP SER ASP VAL THR PRO LEU\n",
      "                 ARG PHE SER ARG ILE HIS ASP GLY GLU ALA ASP ILE\n",
      "                 MET ILE ASN PHE GLY ARG TRP GLU HIS GLY ASP GLY\n",
      "                 TYR PRO PHE ASP GLY LYS ASP GLY LEU LEU ALA HIS\n",
      "                 ALA PHE ALA PRO GLY THR GLY VAL GLY GLY ASP SER\n",
      "                 HIS PHE ASP ASP ASP GLU LEU TRP THR LEU GLY LYS\n",
      "                 GLY VAL GLY TYR SER LEU PHE LEU VAL ALA ALA HIS\n",
      "                 ALA PHE GLY HIS ALA MET GLY LEU GLU HIS SER GLN\n",
      "                 ASP PRO GLY ALA LEU MET ALA PRO ILE TYR THR TYR\n",
      "                 THR LYS ASN PHE ARG LEU SER GLN ASP ASP ILE LYS\n",
      "                 GLY ILE GLN GLU LEU TYR GLY ALA SER PRO ASP\n"
     ]
    },
    {
     "ename": "NameError",
     "evalue": "name 'informationB' is not defined",
     "output_type": "error",
     "traceback": [
      "\u001b[0;31m---------------------------------------------------------------------------\u001b[0m",
      "\u001b[0;31mNameError\u001b[0m                                 Traceback (most recent call last)",
      "\u001b[0;32m/tmp/ipykernel_2281/1765525153.py\u001b[0m in \u001b[0;36m<module>\u001b[0;34m\u001b[0m\n\u001b[0;32m----> 1\u001b[0;31m \u001b[0minformationA\u001b[0m\u001b[0;34m(\u001b[0m\u001b[0;34m)\u001b[0m\u001b[0;34m\u001b[0m\u001b[0;34m\u001b[0m\u001b[0m\n\u001b[0m",
      "\u001b[0;32m/tmp/ipykernel_2281/2843189113.py\u001b[0m in \u001b[0;36minformationA\u001b[0;34m()\u001b[0m\n\u001b[1;32m     77\u001b[0m     \u001b[0mprint\u001b[0m\u001b[0;34m(\u001b[0m\u001b[0;34m'%3s Number of sheets:%7s%s'\u001b[0m \u001b[0;34m%\u001b[0m\u001b[0;34m(\u001b[0m\u001b[0;34m''\u001b[0m\u001b[0;34m,\u001b[0m\u001b[0;34m(\u001b[0m\u001b[0msheetdict\u001b[0m\u001b[0;34m[\u001b[0m\u001b[0mchainno\u001b[0m\u001b[0;34m]\u001b[0m\u001b[0;34m)\u001b[0m\u001b[0;34m,\u001b[0m\u001b[0;34m''\u001b[0m\u001b[0;34m)\u001b[0m\u001b[0;34m)\u001b[0m\u001b[0;34m\u001b[0m\u001b[0;34m\u001b[0m\u001b[0m\n\u001b[1;32m     78\u001b[0m     \u001b[0mprint\u001b[0m\u001b[0;34m(\u001b[0m\u001b[0;34m'%3s Sequences:  '\u001b[0m\u001b[0;34m%\u001b[0m\u001b[0;34m(\u001b[0m\u001b[0;34m''\u001b[0m\u001b[0;34m)\u001b[0m\u001b[0;34m,\u001b[0m \u001b[0mseqlines\u001b[0m\u001b[0;34m)\u001b[0m\u001b[0;34m\u001b[0m\u001b[0;34m\u001b[0m\u001b[0m\n\u001b[0;32m---> 79\u001b[0;31m     \u001b[0minformationB\u001b[0m\u001b[0;34m(\u001b[0m\u001b[0mfilepath\u001b[0m\u001b[0;34m)\u001b[0m\u001b[0;34m\u001b[0m\u001b[0;34m\u001b[0m\u001b[0m\n\u001b[0m\u001b[1;32m     80\u001b[0m \u001b[0;34m\u001b[0m\u001b[0m\n\u001b[1;32m     81\u001b[0m \u001b[0;34m\u001b[0m\u001b[0m\n",
      "\u001b[0;31mNameError\u001b[0m: name 'informationB' is not defined"
     ]
    }
   ],
   "source": [
    "informationA()"
   ]
  },
  {
   "cell_type": "code",
   "execution_count": 73,
   "id": "e39dacd3-40f0-4170-922a-b1fbde67ddae",
   "metadata": {},
   "outputs": [],
   "source": [
    "def informationB(filepath):\n",
    "    #filepath=loadfile()\n",
    "    #print(f'PDB File: {filepath}')\n",
    "    stringb=''\n",
    "    chainlistb=[]\n",
    "    aminoaab=[]\n",
    "    aminono={}\n",
    "    aminoaa2b=[]\n",
    "    aminonolist=[]\n",
    "    helixb=[]\n",
    "    sheetsb=[]\n",
    "    sheetdictb={}\n",
    "    aaseqb=''\n",
    "    seqlinesb = \"\"\n",
    "    col = 0\n",
    "    aaseqb=''\n",
    "    for line in open(filepath).readlines():\n",
    "        listlines= line.split()\n",
    "        colname=listlines[0]\n",
    "        if colname == 'TITLE':\n",
    "            head=listlines[1:]\n",
    "            title=' '.join(head)\n",
    "            stringb+=title\n",
    "        if colname == 'SEQRES':\n",
    "            chain=listlines[2]\n",
    "            #print(chain)\n",
    "            if chain == 'B':\n",
    "                seq=listlines[4:]\n",
    "                \n",
    "                aaseqb+=' '.join(seq)+\" \"\n",
    "                #aaseqmain+=aaseqb\n",
    "               # print(aaseq)\n",
    "            \n",
    "            #chainlist=[]\n",
    "            typeofchain=listlines[2]\n",
    "            noofaa=listlines[3]\n",
    "            for i in typeofchain:  \n",
    "                if i not in chainlistb:\n",
    "                    chainlistb.append(i)\n",
    "            for i in noofaa:\n",
    "                aminoaab.append(i)\n",
    "            for i in range(0,len(aminoaab),3):\n",
    "                group=aminoaab[i:i+3]\n",
    "                aminoaab=[]\n",
    "                aminoaa2b.append(''.join(group))\n",
    "                aminono=set(aminoaa2b)\n",
    "                aminonolist=list(aminono)\n",
    "            \n",
    "        if colname == 'HELIX':\n",
    "            helices=listlines[4]\n",
    "            if helices=='B':\n",
    "                for i in helices:\n",
    "                    helixb.append(i)\n",
    "                \n",
    "        if colname == 'SHEET':\n",
    "            sheet=listlines[5]\n",
    "            for i in sheet:\n",
    "                sheetsb.append(i)\n",
    "                \n",
    "                for i in sheetsb:\n",
    "                    sheetdictb[i]=sheetsb.count(i)\n",
    "    for word in aaseqb.split():\n",
    "        end_col = col + len(word)\n",
    "        if col != 0:\n",
    "            end_col += 1\n",
    "        if end_col > 50: \n",
    "            seqlinesb += '\\n' + ' '*17\n",
    "            col = 0    \n",
    "        if col != 0:\n",
    "            seqlinesb += ' ' \n",
    "            col += 1\n",
    "        col += len(word)\n",
    "        seqlinesb += word \n",
    "    \n",
    "    chainno=chainlistb[1]\n",
    "    print(' - Chain %s'%chainlistb[1])\n",
    "    print('%3s Number of amino acids: %s' %('',aminonolist[1]))\n",
    "    print('%3s Number of helix:%8s%s' %('',(len(helixb)),''))\n",
    "    print('%3s Number of sheets:%7s%s' %('',(sheetdictb[chainno]),''))\n",
    "    print('%3s Sequences:  '%(''), seqlinesb)\n",
    "    \n",
    "    \n",
    "    "
   ]
  },
  {
   "cell_type": "code",
   "execution_count": 81,
   "id": "19e8c5b2-b3cb-40cd-b894-813bf6b1b41a",
   "metadata": {},
   "outputs": [
    {
     "name": "stdout",
     "output_type": "stream",
     "text": [
      " - Chain B\n",
      "    Number of amino acids: 10\n",
      "    Number of helix:       0\n",
      "    Number of sheets:      1\n",
      "    Sequences:   ILE SER TYR GLY ASN ASP ALA LEU MET PRO\n"
     ]
    }
   ],
   "source": [
    "informationB('./3AYU.pdb')"
   ]
  },
  {
   "cell_type": "code",
   "execution_count": 128,
   "id": "ee89ff49-db5f-4dd9-9dd7-3ed4d4a03f2d",
   "metadata": {},
   "outputs": [
    {
     "name": "stdout",
     "output_type": "stream",
     "text": [
      "TYR ASN PHE PHE PRO ARG LYS PRO LYS TRP ASP LYS ASN GLN ILE THR TYR ARG ILE ILE GLY TYR THR PRO ASP LEU ASP PRO GLU THR VAL ASP ASP ALA PHE ALA ARG ALA PHE GLN VAL TRP SER ASP VAL THR PRO LEU ARG PHE SER ARG ILE HIS ASP GLY GLU ALA ASP ILE MET ILE ASN PHE GLY ARG TRP GLU HIS GLY ASP GLY TYR PRO PHE ASP GLY LYS ASP GLY LEU LEU ALA HIS ALA PHE ALA PRO GLY THR GLY VAL GLY GLY ASP SER HIS PHE ASP ASP ASP GLU LEU TRP THR LEU GLY LYS GLY VAL GLY TYR SER LEU PHE LEU VAL ALA ALA HIS ALA PHE GLY HIS ALA MET GLY LEU GLU HIS SER GLN ASP PRO GLY ALA LEU MET ALA PRO ILE TYR THR TYR THR LYS ASN PHE ARG LEU SER GLN ASP ASP ILE LYS GLY ILE GLN GLU LEU TYR GLY ALA SER PRO ASP ILE SER TYR GLY ASN ASP ALA LEU MET PRO \n"
     ]
    }
   ],
   "source": [
    "print(aaseqmainstr)"
   ]
  },
  {
   "cell_type": "code",
   "execution_count": 118,
   "id": "13efa996-13e3-477f-9443-5002acac67e1",
   "metadata": {},
   "outputs": [],
   "source": [
    "def histogram():\n",
    "    filepath=loadfile()\n",
    "    print(f': H')\n",
    "    print('Choose an option to order by:')\n",
    "    print('%3s number of amino acids - ascending  (an)' %'')\n",
    "    print('%3s number of amino acids - descending (dn)' %'')\n",
    "    print('%3s alphabetically - ascending         (aa)' %'')\n",
    "    print('%3s alphabetically - descending        (da)' %'')\n",
    "    sortby=input('order by:')\n",
    "    aaseqmain=''\n",
    "    for line in open('3AYU.pdb').readlines():\n",
    "        listlines= line.split()\n",
    "        colname=listlines[0]\n",
    "        if colname == 'SEQRES':\n",
    "            chain=listlines[4:]\n",
    "            \n",
    "            a = ' '.join(chain)+' '\n",
    "            aaseqmain+=a\n",
    "    #print(aaseqmain)\n",
    "        "
   ]
  },
  {
   "cell_type": "code",
   "execution_count": 119,
   "id": "644a5c59-fc85-412f-b7e0-dbf9343e719e",
   "metadata": {},
   "outputs": [
    {
     "name": "stdin",
     "output_type": "stream",
     "text": [
      ": o\n",
      "Enter a Valid PATH for a PDB File: 3AYU.pdb\n"
     ]
    },
    {
     "name": "stdout",
     "output_type": "stream",
     "text": [
      "The File 3AYU.pdb has been successfully loaded.\n",
      "********************************************************************************\n",
      "* PDB FILE ANALYZER                                                            *\n",
      "********************************************************************************\n",
      "* Select an option from below:                                                 *\n",
      "*                                                                              *\n",
      "*       1) Open a PDB File                        (O)                          *\n",
      "*       2) Information                            (I)                          *\n",
      "*       3) Show histogram of amino acids          (H)                          *\n",
      "*       4) Display Secondary Structure            (S)                          *\n",
      "*       5) Export PDB File                        (X)                          *\n",
      "*       6) Exit                                   (Q)                          *\n",
      "*                                                                              *\n",
      "*                                                         Current PDB:3AYU.pdb * \n",
      "********************************************************************************\n",
      ": H\n",
      "Choose an option to order by:\n",
      "    number of amino acids - ascending  (an)\n",
      "    number of amino acids - descending (dn)\n",
      "    alphabetically - ascending         (aa)\n",
      "    alphabetically - descending        (da)\n"
     ]
    },
    {
     "name": "stdin",
     "output_type": "stream",
     "text": [
      "order by: aa\n"
     ]
    },
    {
     "name": "stdout",
     "output_type": "stream",
     "text": [
      "TYR ASN PHE PHE PRO ARG LYS PRO LYS TRP ASP LYS ASN GLN ILE THR TYR ARG ILE ILE GLY TYR THR PRO ASP LEU ASP PRO GLU THR VAL ASP ASP ALA PHE ALA ARG ALA PHE GLN VAL TRP SER ASP VAL THR PRO LEU ARG PHE SER ARG ILE HIS ASP GLY GLU ALA ASP ILE MET ILE ASN PHE GLY ARG TRP GLU HIS GLY ASP GLY TYR PRO PHE ASP GLY LYS ASP GLY LEU LEU ALA HIS ALA PHE ALA PRO GLY THR GLY VAL GLY GLY ASP SER HIS PHE ASP ASP ASP GLU LEU TRP THR LEU GLY LYS GLY VAL GLY TYR SER LEU PHE LEU VAL ALA ALA HIS ALA PHE GLY HIS ALA MET GLY LEU GLU HIS SER GLN ASP PRO GLY ALA LEU MET ALA PRO ILE TYR THR TYR THR LYS ASN PHE ARG LEU SER GLN ASP ASP ILE LYS GLY ILE GLN GLU LEU TYR GLY ALA SER PRO ASP ILE SER TYR GLY ASN ASP ALA LEU MET PRO \n"
     ]
    }
   ],
   "source": [
    "histogram()"
   ]
  },
  {
   "cell_type": "code",
   "execution_count": 281,
   "id": "6edd021f-001e-44e5-b688-1f7e10d023c8",
   "metadata": {},
   "outputs": [
    {
     "name": "stdout",
     "output_type": "stream",
     "text": [
      "TRP  (  4 )  :  ****\n",
      "TYR  (  9 )  :  *********\n",
      "ARG  (  7 )  :  *******\n",
      "ASP  ( 20 )  :  ********************\n",
      "SER  (  8 )  :  ********\n",
      "HIS  (  7 )  :  *******\n",
      "LYS  (  7 )  :  *******\n",
      "MET  (  4 )  :  ****\n",
      "PRO  ( 11 )  :  ***********\n",
      "ILE  ( 10 )  :  **********\n",
      "ASN  (  5 )  :  *****\n",
      "LEU  ( 13 )  :  *************\n",
      "GLU  (  6 )  :  ******\n",
      "VAL  (  6 )  :  ******\n",
      "THR  (  8 )  :  ********\n",
      "GLY  ( 20 )  :  ********************\n",
      "GLN  (  5 )  :  *****\n",
      "ALA  ( 15 )  :  ***************\n",
      "PHE  ( 12 )  :  ************\n"
     ]
    }
   ],
   "source": [
    "amino={}\n",
    "aaseqmainstr=[]\n",
    "allaaseqlist=[]\n",
    "counts=[]\n",
    "for line in open('3AYU.pdb').readlines():\n",
    "   \n",
    "\n",
    "    \n",
    "    listlines= line.split()\n",
    "    colname=listlines[0]\n",
    "    if colname == 'SEQRES':\n",
    "        chain=listlines[4:]\n",
    "        #print(chain)\n",
    "\n",
    "        #a = ' '.join(chain)+' '\n",
    "        #print(a)\n",
    "        \n",
    "        aaseqmainstr.append(' '.join(chain).split())\n",
    "for i in aaseqmainstr:\n",
    "    allaaseqlist+=i\n",
    "        \n",
    "amino=set(allaaseqlist)\n",
    "\n",
    "for i in amino:\n",
    "    counts.append(allaaseqlist.count(i))\n",
    "   # print(\"%s (  %d )%s: %s \" %(i, allaaseqlist.count(i).rjust(2),''.rjust(5),('*'*allaaseqlist.count(i))))\n",
    "    #print(f'{i} ( {allaaseqlist.count(i)})  : {(\"*\"*allaaseqlist.count(i))}')\n",
    "    print(\"{:4s} {:1s} {:2d} {:2s} {:2} {:2}\".format(i,'(',(allaaseqlist.count(i)),')',':',('*'*allaaseqlist.count(i))))\n",
    "    #print(\"*\"* 4)\n",
    "    \n",
    "\n"
   ]
  },
  {
   "cell_type": "code",
   "execution_count": 204,
   "id": "ebe7344a-c33a-4500-ba4c-35474cc5023c",
   "metadata": {},
   "outputs": [
    {
     "name": "stdout",
     "output_type": "stream",
     "text": [
      "Object `.count()` not found.\n"
     ]
    }
   ],
   "source": [
    "?.count()"
   ]
  },
  {
   "cell_type": "code",
   "execution_count": 153,
   "id": "6980762e-92ba-485a-8884-14988ac259f3",
   "metadata": {},
   "outputs": [
    {
     "name": "stdout",
     "output_type": "stream",
     "text": [
      "[9, 5, 12, 12, 11, 7, 7, 11, 7, 4, 20, 7, 5, 5, 10, 8, 9, 7, 10, 10, 20, 9, 8, 11, 20, 13, 20, 11, 6, 8, 6, 20, 20, 15, 12, 15, 7, 15, 12, 5, 6, 4, 8, 20, 6, 8, 11, 13, 7, 12, 8, 7, 10, 7, 20, 20, 6, 15, 20, 10, 4, 10, 5, 12, 20, 7, 4, 6, 7, 20, 20, 20, 9, 11, 12, 20, 20, 7, 20, 20, 13, 13, 15, 7, 15, 12, 15, 11, 20, 8, 20, 6, 20, 20, 20, 8, 7, 12, 20, 20, 20, 6, 13, 4, 8, 13, 20, 7, 20, 6, 20, 9, 8, 13, 12, 13, 6, 15, 15, 7, 15, 12, 20, 7, 15, 4, 20, 13, 6, 7, 8, 5, 20, 11, 20, 15, 13, 4, 15, 11, 10, 9, 8, 9, 8, 7, 5, 12, 7, 13, 8, 5, 20, 20, 10, 7, 20, 10, 5, 6, 13, 9, 20, 15, 8, 11, 20, 10, 8, 9, 20, 5, 20, 15, 13, 4, 11]\n"
     ]
    }
   ],
   "source": [
    "counts=[]\n",
    "for i in aaseqmainstr.split():\n",
    "    #print(i)\n",
    "    times=aaseqmainstr.count(i)\n",
    "    \n",
    "    counts.append(times)\n",
    "print(counts)\n",
    "    "
   ]
  },
  {
   "cell_type": "code",
   "execution_count": 99,
   "id": "d64a134b-0bbd-49da-ac01-b32700c7fe02",
   "metadata": {},
   "outputs": [
    {
     "name": "stdout",
     "output_type": "stream",
     "text": [
      "CRYSTAL STRUCTURE OF MMP-2 ACTIVE SITE MUTANT IN COMPLEX WITH APP-2 DRIVED DECAPEPTIDE INHIBITOR\n"
     ]
    }
   ],
   "source": [
    "with open('3AYU.pdb') as filename:\n",
    "    string=''\n",
    "    for line in filename.readlines():\n",
    "        file= line.split()\n",
    "        colname=file[0]\n",
    "        #print(file)\n",
    "        #print(colname)\n",
    "        if colname == 'TITLE':\n",
    "            head=file[1:]\n",
    "            #print(head)\n",
    "            title=' '.join(head)\n",
    "            #print(title)\n",
    "            \n",
    "            string+=title\n",
    "            \n",
    "    print(string)\n",
    "        \n",
    "        \n",
    "                    # chain=file[4]\n",
    "            # print(chain)\n",
    "        #     if chain == 'B':\n",
    "        #         content=file[4:]\n",
    "        #         print(' '.join(content),end='')"
   ]
  },
  {
   "cell_type": "code",
   "execution_count": null,
   "id": "a65e54ca-5a9a-42a9-ac84-e0683d745955",
   "metadata": {},
   "outputs": [],
   "source": [
    "with open('3AYU.pdb') as filename:\n",
    "    for line in filename.readlines():\n",
    "        file= line.split()\n",
    "        UDA=file[0]\n",
    "        if UDA=='HELIX':\n",
    "            chain=file[4]\n",
    "            content=file[0:]\n",
    "            stre=str(content)\n",
    "            #print(stre)\n",
    "            \n",
    "            print('\\t'.join(content))"
   ]
  },
  {
   "cell_type": "code",
   "execution_count": null,
   "id": "0ef24120-d26b-407d-992d-5f929d2a7e11",
   "metadata": {},
   "outputs": [],
   "source": [
    "aaseq=''\n",
    "with open('3AYU.pdb') as filename:\n",
    "    for line in filename.readlines():\n",
    "        listlines= line.split()\n",
    "        colname=listlines[0]\n",
    "        if colname=='SEQRES':\n",
    "            chain=listlines[2]\n",
    "            #print(chain)\n",
    "            if chain == 'A':\n",
    "                seq=listlines[4:]\n",
    "                aaseq+=' '.join(seq)\n",
    "        \n",
    "    print(aaseq)"
   ]
  },
  {
   "cell_type": "code",
   "execution_count": null,
   "id": "a88740dd-744c-4c9a-abc1-ae4842dd9f04",
   "metadata": {},
   "outputs": [],
   "source": [
    "# def par(s, wrap = 72, margin = 0):\n",
    "#     \"\"\"Print a word-wrapped paragraph with given width and left margin\"\"\"\n",
    "\n",
    "#aaseq='TYR ASN PHE PHE PRO ARG LYS PRO LYS TRP ASP LYS ASNGLN ILE THR TYR ARG ILE ILE GLY TYR THR PRO ASP LEUASP PRO GLU THR VAL ASP ASP ALA PHE ALA ARG ALA PHEGLN VAL TRP SER ASP VAL THR PRO LEU ARG PHE SER ARGILE HIS ASP GLY GLU ALA ASP ILE MET ILE ASN PHE GLYARG TRP GLU HIS GLY ASP GLY TYR PRO PHE ASP GLY LYSASP GLY LEU LEU ALA HIS ALA PHE ALA PRO GLY THR GLYVAL GLY GLY ASP SER HIS PHE ASP ASP ASP GLU LEU TRPTHR LEU GLY LYS GLY VAL GLY TYR SER LEU PHE LEU VALALA ALA HIS ALA PHE GLY HIS ALA MET GLY LEU GLU HISSER GLN ASP PRO GLY ALA LEU MET ALA PRO ILE TYR THRTYR THR LYS ASN PHE ARG LEU SER GLN ASP ASP ILE LYSGLY ILE GLN GLU LEU TYR GLY ALA SER PRO ASP'\n",
    "margin = 10\n",
    "left = margin *\" \"\n",
    "line = \" \"\n",
    "\n",
    "wrap = 50\n",
    "for w in aaseq:\n",
    "    line+=w\n",
    "    if len(line) + len(w) >= wrap:\n",
    "        line+left+line\n",
    "print(line)\n",
    "\n"
   ]
  },
  {
   "cell_type": "code",
   "execution_count": null,
   "id": "07480904-06d6-49f4-bf56-2b8189d695bb",
   "metadata": {},
   "outputs": [],
   "source": [
    "aaseq=aaseq\n",
    "#print(aaseq)\n",
    "if len(aaseq) > 50:\n",
    "    count=len(aaseq)\n",
    "    #print(aaseq[0:50+1])\n",
    "    #print('%50s' %aaseq)\n",
    "    print(f\"{aaseq.ljust(1)} \")"
   ]
  },
  {
   "cell_type": "code",
   "execution_count": null,
   "id": "3a067bfc-3422-4427-91ab-081f63b552e5",
   "metadata": {},
   "outputs": [],
   "source": [
    "print(aaseq)"
   ]
  },
  {
   "cell_type": "code",
   "execution_count": null,
   "id": "3b570ee8-ad4b-46b7-b512-476f2d139878",
   "metadata": {},
   "outputs": [],
   "source": [
    "#def seq50(aaseq):\n",
    "max_width = 50 \n",
    "seqlines = \"\"\n",
    "col = 0\n",
    "margin=10\n",
    "left=margin*' '\n",
    "for word in aaseq.split():\n",
    "    end_col = col + len(word)\n",
    "    if col != 0:\n",
    "        end_col += 1\n",
    "    if end_col > max_width: \n",
    "        seqlines += '\\n'\n",
    "        col = 0    \n",
    "    if col != 0:\n",
    "        seqlines += ' ' \n",
    "        col += 1\n",
    "    seqlines += word \n",
    "    col += len(word)\n",
    "print(left+seqlines)"
   ]
  },
  {
   "cell_type": "code",
   "execution_count": null,
   "id": "5001727f-ddaf-4d2f-811a-d12164f56b51",
   "metadata": {},
   "outputs": [],
   "source": [
    "seq50(aaseq)"
   ]
  },
  {
   "cell_type": "code",
   "execution_count": null,
   "id": "d0996c56-7116-48ce-afc0-e8777366715d",
   "metadata": {},
   "outputs": [],
   "source": [
    "with open('3AYU.pdb') as filename:\n",
    "    for line in filename.readlines():\n",
    "        file= line.split()\n",
    "        id=file[0]\n",
    "        if id=='HELIX':\n",
    "            chain=file[4]\n",
    "            if chain =='A':\n",
    "                count=chain.count('A')\n",
    "                print(count)\n",
    "                \n",
    "                \n",
    "            # chain=file[4]\n",
    "            # print(len(chain),end='')\n",
    "                                \n",
    "            # count=[]\n",
    "            # if chain =='A':\n",
    "            #     for j in chain:\n",
    "            #         count.extend(j)\n",
    "            #print(count)\n",
    "                #print(file[4].count('A'),end='')\n",
    "               # print((chain))\n",
    "                \n",
    "                \n",
    "                \n",
    "                \n",
    "                \n",
    "                #print(helix)\n",
    "                #content=file[0:]\n",
    "           # stre=str(content)\n",
    "            #print(stre)\n",
    "            \n",
    "#                 helices='\\t'.join(content)\n",
    "#                 print(helices)\n",
    "            "
   ]
  },
  {
   "cell_type": "code",
   "execution_count": null,
   "id": "af18f2ce-51da-4978-95be-3b98206717cc",
   "metadata": {},
   "outputs": [],
   "source": [
    "if id in file =='HELIX':\n",
    "            chain=file[4]\n",
    "            if chain =='A':\n",
    "                count=chain.count('A')\n",
    "                print(count)"
   ]
  },
  {
   "cell_type": "code",
   "execution_count": null,
   "id": "af476ca5-963d-4e16-aa42-00d8e0249230",
   "metadata": {},
   "outputs": [],
   "source": [
    "type(helices)"
   ]
  },
  {
   "cell_type": "code",
   "execution_count": null,
   "id": "0307feca-c196-47a6-9e12-d403a0e71352",
   "metadata": {},
   "outputs": [],
   "source": [
    "len(helices[4])"
   ]
  },
  {
   "cell_type": "code",
   "execution_count": null,
   "id": "320f4c3b-5649-4fcf-ad89-24495eabf416",
   "metadata": {},
   "outputs": [],
   "source": [
    "y=['a','b']"
   ]
  },
  {
   "cell_type": "code",
   "execution_count": null,
   "id": "bbc440fa-d23d-44a3-abd1-7dd4ef3821dc",
   "metadata": {},
   "outputs": [],
   "source": [
    "y"
   ]
  },
  {
   "cell_type": "code",
   "execution_count": null,
   "id": "ef3069de-24a2-4fdf-9104-63884bae7138",
   "metadata": {},
   "outputs": [],
   "source": [
    "y[-1]"
   ]
  },
  {
   "cell_type": "code",
   "execution_count": null,
   "id": "60028023-dc74-477c-b367-7f972cec402e",
   "metadata": {},
   "outputs": [],
   "source": [
    "y='acdfb'\n",
    "y.reverseindex('b')"
   ]
  },
  {
   "cell_type": "code",
   "execution_count": null,
   "id": "52c6f384-ce0b-430a-ae57-d719fc1793af",
   "metadata": {},
   "outputs": [],
   "source": []
  },
  {
   "cell_type": "code",
   "execution_count": null,
   "id": "7a4b2706-6be9-4a58-b295-2c3b718ed527",
   "metadata": {},
   "outputs": [],
   "source": []
  },
  {
   "cell_type": "code",
   "execution_count": null,
   "id": "087fc2ad-420f-44b1-9843-13e1705d0916",
   "metadata": {},
   "outputs": [],
   "source": []
  },
  {
   "cell_type": "code",
   "execution_count": null,
   "id": "68e9501c-cef4-497c-b128-d5d436d2a745",
   "metadata": {},
   "outputs": [],
   "source": []
  },
  {
   "cell_type": "code",
   "execution_count": null,
   "id": "63c3d98d-d9db-4b6b-8c90-89d2970d7dce",
   "metadata": {},
   "outputs": [],
   "source": []
  },
  {
   "cell_type": "code",
   "execution_count": null,
   "id": "07a1299f-4be3-4b91-8c16-faf1cd2f3902",
   "metadata": {},
   "outputs": [],
   "source": []
  },
  {
   "cell_type": "code",
   "execution_count": null,
   "id": "a5bcd184-52a7-4774-abd3-48b1e276521f",
   "metadata": {},
   "outputs": [],
   "source": []
  },
  {
   "cell_type": "code",
   "execution_count": null,
   "id": "1f0b0c07-7b57-4d52-827d-ac53d3293d5c",
   "metadata": {},
   "outputs": [],
   "source": []
  },
  {
   "cell_type": "code",
   "execution_count": null,
   "id": "8e9acf95-a57f-4d71-a8c5-d437f1e3f176",
   "metadata": {},
   "outputs": [],
   "source": []
  },
  {
   "cell_type": "code",
   "execution_count": null,
   "id": "52fe0ba4-917a-4529-9a9c-e884d193f4e6",
   "metadata": {},
   "outputs": [],
   "source": []
  },
  {
   "cell_type": "code",
   "execution_count": null,
   "id": "44bd297d-6a85-4a39-abd5-2ea0cf9609b7",
   "metadata": {},
   "outputs": [],
   "source": []
  }
 ],
 "metadata": {
  "kernelspec": {
   "display_name": "Python 3 (ipykernel)",
   "language": "python",
   "name": "python3"
  },
  "language_info": {
   "codemirror_mode": {
    "name": "ipython",
    "version": 3
   },
   "file_extension": ".py",
   "mimetype": "text/x-python",
   "name": "python",
   "nbconvert_exporter": "python",
   "pygments_lexer": "ipython3",
   "version": "3.9.7"
  }
 },
 "nbformat": 4,
 "nbformat_minor": 5
}
