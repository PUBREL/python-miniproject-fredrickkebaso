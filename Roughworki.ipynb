{
 "cells": [
  {
   "cell_type": "markdown",
   "id": "c6395a03-20af-4fdc-bb17-fa655130a9a5",
   "metadata": {},
   "source": [
    "## Menu\n",
    "Your program should display a menu like the following and wait for the input of the user:"
   ]
  },
  {
   "cell_type": "code",
   "execution_count": 1,
   "id": "e31261be-60d5-4726-a256-c1d67e9b5b22",
   "metadata": {},
   "outputs": [],
   "source": [
    "def menu():\n",
    "    print(\"*\" * 80)\n",
    "    print(\"* PDB FILE ANALYZER %60s\" %'*')\n",
    "    print(\"*\" * 80)\n",
    "    print(\"* Select an option from below:%50s\" %'*')\n",
    "    print(\"*%79s\" %'*')\n",
    "    print(\"* %5s 1) Open a PDB File %22s (O) %26s\" %('','','*'))\n",
    "    print(\"* %5s 2) Information %26s (I) %26s\"  %('','','*'))\n",
    "    print(\"* %5s 3) Show histogram of amino acids %8s (H) %26s\"  %('','','*'))\n",
    "    print(\"* %5s 4) Display Secondary Structure %10s (S) %26s\"  %('','','*'))\n",
    "    print(\"* %5s 5) Export PDB File %22s (X) %26s\"  %('','','*'))\n",
    "    print(\"* %5s 6) Exit  %32s (Q) %26s\"  %('','','*'))\n",
    "    print(\"* %78s\" %'*')\n",
    "    print(\"* %57s Current PDB: None  * \" %'')\n",
    "    print(\"*\" * 80)\n",
    "\n",
    "    \n",
    "    "
   ]
  },
  {
   "cell_type": "code",
   "execution_count": 2,
   "id": "fcd5946f-8e52-47e0-8eac-998d42390e22",
   "metadata": {},
   "outputs": [
    {
     "name": "stdout",
     "output_type": "stream",
     "text": [
      "********************************************************************************\n",
      "* PDB FILE ANALYZER                                                            *\n",
      "********************************************************************************\n",
      "* Select an option from below:                                                 *\n",
      "*                                                                              *\n",
      "*       1) Open a PDB File                        (O)                          *\n",
      "*       2) Information                            (I)                          *\n",
      "*       3) Show histogram of amino acids          (H)                          *\n",
      "*       4) Display Secondary Structure            (S)                          *\n",
      "*       5) Export PDB File                        (X)                          *\n",
      "*       6) Exit                                   (Q)                          *\n",
      "*                                                                              *\n",
      "*                                                           Current PDB: None  * \n",
      "********************************************************************************\n"
     ]
    }
   ],
   "source": [
    "menu()"
   ]
  },
  {
   "cell_type": "code",
   "execution_count": 3,
   "id": "2302237d-80db-4705-bf35-01a0b6dfb157",
   "metadata": {},
   "outputs": [],
   "source": [
    "def loadfile():\n",
    "    option=input(\":\")\n",
    "\n",
    "    while option.lower() != 'q':\n",
    "        if option.lower() == 'o':\n",
    "\n",
    "                filepath=input(f\"Enter a Valid PATH for a PDB File:\")\n",
    "\n",
    "                if filepath.endswith('.pdb'):\n",
    "\n",
    "                    try:\n",
    "                        file=open(filepath)\n",
    "                        \n",
    "\n",
    "                    except FileNotFoundError:\n",
    "                        print('No such File or Directory')\n",
    "\n",
    "                    else:\n",
    "                        print(f'The File {filepath} has been successfully loaded.')\n",
    "                        \n",
    "                        option='q'\n",
    "                        menu2(filepath,file) \n",
    "                        \n",
    "                else:\n",
    "                    print(\"File Format Not Supported. Only .pdb files !!! \") \n",
    "                    option='q'\n",
    "\n",
    "        else:\n",
    "            print(\"Invalid input,Enter the correct operation and try again or q to quit\")\n",
    "            option=input(\":\")\n",
    "        return filepath\n",
    "\n"
   ]
  },
  {
   "cell_type": "code",
   "execution_count": null,
   "id": "7f8ae8c8-22db-405c-9a50-2022104dc529",
   "metadata": {},
   "outputs": [],
   "source": [
    "\n"
   ]
  },
  {
   "cell_type": "code",
   "execution_count": 4,
   "id": "d949d571-e19d-4d19-a8d9-77f021c34b91",
   "metadata": {},
   "outputs": [
    {
     "name": "stdin",
     "output_type": "stream",
     "text": [
      ": q\n"
     ]
    }
   ],
   "source": [
    "loadfile()"
   ]
  },
  {
   "cell_type": "code",
   "execution_count": 5,
   "id": "2ca37514-813f-4a0c-aa9d-8f3e6e1fb1ac",
   "metadata": {},
   "outputs": [],
   "source": [
    "def menu2(filepath,file):\n",
    "    print(\"*\" * 80)\n",
    "    print(\"* PDB FILE ANALYZER %60s\" %'*')\n",
    "    print(\"*\" * 80)\n",
    "    print(\"* Select an option from below:%50s\" %'*')\n",
    "    print(\"*%79s\" %'*')\n",
    "    print(\"* %5s 1) Open a PDB File %22s (O) %26s\" %('','','*'))\n",
    "    print(\"* %5s 2) Information %26s (I) %26s\"  %('','','*'))\n",
    "    print(\"* %5s 3) Show histogram of amino acids %8s (H) %26s\"  %('','','*'))\n",
    "    print(\"* %5s 4) Display Secondary Structure %10s (S) %26s\"  %('','','*'))\n",
    "    print(\"* %5s 5) Export PDB File %22s (X) %26s\"  %('','','*'))\n",
    "    print(\"* %5s 6) Exit  %32s (Q) %26s\"  %('','','*'))\n",
    "    print(\"* %78s\" %'*')\n",
    "    print(f\"* {('Current PDB:'+ filepath).rjust(76)} * \")\n",
    "    print(\"*\" * 80)"
   ]
  },
  {
   "cell_type": "code",
   "execution_count": 6,
   "id": "57699bd2-ee24-408f-aaee-beed692c39b9",
   "metadata": {},
   "outputs": [],
   "source": [
    "\n",
    "def mainmenu():\n",
    "    menu()\n",
    "    loadfile()\n",
    "    "
   ]
  },
  {
   "cell_type": "code",
   "execution_count": 7,
   "id": "82be216b-76e8-4922-a6ba-e70d22bee8fe",
   "metadata": {},
   "outputs": [
    {
     "name": "stdout",
     "output_type": "stream",
     "text": [
      "********************************************************************************\n",
      "* PDB FILE ANALYZER                                                            *\n",
      "********************************************************************************\n",
      "* Select an option from below:                                                 *\n",
      "*                                                                              *\n",
      "*       1) Open a PDB File                        (O)                          *\n",
      "*       2) Information                            (I)                          *\n",
      "*       3) Show histogram of amino acids          (H)                          *\n",
      "*       4) Display Secondary Structure            (S)                          *\n",
      "*       5) Export PDB File                        (X)                          *\n",
      "*       6) Exit                                   (Q)                          *\n",
      "*                                                                              *\n",
      "*                                                           Current PDB: None  * \n",
      "********************************************************************************\n"
     ]
    },
    {
     "name": "stdin",
     "output_type": "stream",
     "text": [
      ": q\n"
     ]
    }
   ],
   "source": [
    "mainmenu()"
   ]
  },
  {
   "cell_type": "code",
   "execution_count": 38,
   "id": "02422531-9b21-4797-b815-e1a32a7e1bc7",
   "metadata": {},
   "outputs": [],
   "source": [
    "def information():\n",
    "    filepath=loadfile()\n",
    "    print(f'PDB File: {filepath}')\n",
    "    string=''\n",
    "    chainlist=[]\n",
    "    aminoaa=[]\n",
    "    aminoaa2=[]\n",
    "    helix=[]\n",
    "    sheets=[]\n",
    "    sheetdict={}\n",
    "    for line in open(filepath).readlines():\n",
    "        listlines= line.split()\n",
    "        colname=listlines[0]\n",
    "        if colname == 'TITLE':\n",
    "            head=listlines[1:]\n",
    "            title=' '.join(head)\n",
    "            string+=title\n",
    "        if colname == 'SEQRES':\n",
    "            #chainlist=[]\n",
    "            typeofchain=listlines[2]\n",
    "            noofaa=listlines[3]\n",
    "            for i in typeofchain:  \n",
    "                if i not in chainlist:\n",
    "                    chainlist.append(i)\n",
    "            for i in noofaa:\n",
    "                aminoaa.append(i)\n",
    "            for i in range(0,len(aminoaa),3):\n",
    "                group=aminoaa[i:i+3]\n",
    "                aminoaa=[]\n",
    "                aminoaa2.append(''.join(group))\n",
    "            \n",
    "        if colname == 'HELIX':\n",
    "            helices=listlines[4]\n",
    "            for i in helices:\n",
    "                helix.append(i)\n",
    "                \n",
    "        if colname == 'SHEET':\n",
    "            sheet=listlines[5]\n",
    "            for i in sheet:\n",
    "                sheets.append(i)\n",
    "                \n",
    "                for i in sheets:\n",
    "                    sheetdict[i]=sheets.count(i)\n",
    "    \n",
    "    chainno=chainlist[0]\n",
    "    \n",
    "    print('TITLE:%s '%string)\n",
    "    print(f'CHAINS', *chainlist)\n",
    "    print(' - Chain %s'%chainlist[0])\n",
    "    print('%3s Number of amino acids: %s' %('',aminoaa2[0]))\n",
    "    print('%3s Number of helix:%8s%s' %('',(len(helix)),''))\n",
    "    print('%3s Number of sheets:%7s%s' %('',(sheetdict[chainno]),''))\n",
    "    #print('%3s sequence:%2s'%('',''), seq,end='')\n",
    "    \n",
    "    \n",
    "    "
   ]
  },
  {
   "cell_type": "code",
   "execution_count": 39,
   "id": "1f133dad-5d33-4d09-a060-b425e526a632",
   "metadata": {},
   "outputs": [
    {
     "name": "stdin",
     "output_type": "stream",
     "text": [
      ": o\n",
      "Enter a Valid PATH for a PDB File: 3AYU.pdb\n"
     ]
    },
    {
     "name": "stdout",
     "output_type": "stream",
     "text": [
      "The File 3AYU.pdb has been successfully loaded.\n",
      "********************************************************************************\n",
      "* PDB FILE ANALYZER                                                            *\n",
      "********************************************************************************\n",
      "* Select an option from below:                                                 *\n",
      "*                                                                              *\n",
      "*       1) Open a PDB File                        (O)                          *\n",
      "*       2) Information                            (I)                          *\n",
      "*       3) Show histogram of amino acids          (H)                          *\n",
      "*       4) Display Secondary Structure            (S)                          *\n",
      "*       5) Export PDB File                        (X)                          *\n",
      "*       6) Exit                                   (Q)                          *\n",
      "*                                                                              *\n",
      "*                                                         Current PDB:3AYU.pdb * \n",
      "********************************************************************************\n",
      "PDB File: 3AYU.pdb\n",
      "TITLE:CRYSTAL STRUCTURE OF MMP-2 ACTIVE SITE MUTANT IN COMPLEX WITH APP-2 DRIVED DECAPEPTIDE INHIBITOR \n",
      "CHAINS A B\n",
      " - Chain A\n",
      "    Number of amino acids: 167\n",
      "    Number of helix:       3\n",
      "    Number of sheets:      9\n"
     ]
    }
   ],
   "source": [
    "information()"
   ]
  },
  {
   "cell_type": "code",
   "execution_count": 1,
   "id": "d64a134b-0bbd-49da-ac01-b32700c7fe02",
   "metadata": {},
   "outputs": [
    {
     "name": "stdout",
     "output_type": "stream",
     "text": [
      "CRYSTAL STRUCTURE OF MMP-2 ACTIVE SITE MUTANT IN COMPLEX WITH APP-2 DRIVED DECAPEPTIDE INHIBITOR\n"
     ]
    }
   ],
   "source": [
    "with open('3AYU.pdb') as filename:\n",
    "    string=''\n",
    "    for line in filename.readlines():\n",
    "        file= line.split()\n",
    "        colname=file[0]\n",
    "        #print(file)\n",
    "        #print(colname)\n",
    "        if colname == 'TITLE':\n",
    "            head=file[1:]\n",
    "            #print(head)\n",
    "            title=' '.join(head)\n",
    "            #print(title)\n",
    "            \n",
    "            string+=title\n",
    "            \n",
    "    print(string)\n",
    "        \n",
    "        \n",
    "                    # chain=file[4]\n",
    "            # print(chain)\n",
    "        #     if chain == 'B':\n",
    "        #         content=file[4:]\n",
    "        #         print(' '.join(content),end='')"
   ]
  },
  {
   "cell_type": "code",
   "execution_count": 10,
   "id": "a65e54ca-5a9a-42a9-ac84-e0683d745955",
   "metadata": {},
   "outputs": [
    {
     "name": "stdout",
     "output_type": "stream",
     "text": [
      "HELIX\t1\t1\tASP\tA\t27\tASP\tA\t44\t1\t18\n",
      "HELIX\t2\t2\tLEU\tA\t114\tMET\tA\t126\t1\t13\n",
      "HELIX\t3\t3\tSER\tA\t151\tGLY\tA\t163\t1\t13\n"
     ]
    }
   ],
   "source": [
    "with open('3AYU.pdb') as filename:\n",
    "    for line in filename.readlines():\n",
    "        file= line.split()\n",
    "        UDA=file[0]\n",
    "        if UDA=='HELIX':\n",
    "            chain=file[4]\n",
    "            content=file[0:]\n",
    "            stre=str(content)\n",
    "            #print(stre)\n",
    "            \n",
    "            print('\\t'.join(content))\n",
    "            \n",
    "            \n",
    "            \n",
    "            # ' '.split(content)\n",
    "            # print(file[0:],file[1],file[2],file[3],chain)\n",
    "   # file=filename.read().split()\n",
    "\n",
    "        #print(file)\n",
    "    #print(file[0])\n",
    "    # for i in file:\n",
    "    #     if i == 'HELIX':\n",
    "    #         #\n",
    "    #         #print(i)\n",
    "    #         chain=file[4]\n",
    "    #         print(chain)"
   ]
  },
  {
   "cell_type": "code",
   "execution_count": 28,
   "id": "0ef24120-d26b-407d-992d-5f929d2a7e11",
   "metadata": {},
   "outputs": [
    {
     "name": "stdout",
     "output_type": "stream",
     "text": [
      "TYR ASN PHE PHE PRO ARG LYS PRO LYS TRP ASP LYS ASNGLN ILE THR TYR ARG ILE ILE GLY TYR THR PRO ASP LEUASP PRO GLU THR VAL ASP ASP ALA PHE ALA ARG ALA PHEGLN VAL TRP SER ASP VAL THR PRO LEU ARG PHE SER ARGILE HIS ASP GLY GLU ALA ASP ILE MET ILE ASN PHE GLYARG TRP GLU HIS GLY ASP GLY TYR PRO PHE ASP GLY LYSASP GLY LEU LEU ALA HIS ALA PHE ALA PRO GLY THR GLYVAL GLY GLY ASP SER HIS PHE ASP ASP ASP GLU LEU TRPTHR LEU GLY LYS GLY VAL GLY TYR SER LEU PHE LEU VALALA ALA HIS ALA PHE GLY HIS ALA MET GLY LEU GLU HISSER GLN ASP PRO GLY ALA LEU MET ALA PRO ILE TYR THRTYR THR LYS ASN PHE ARG LEU SER GLN ASP ASP ILE LYSGLY ILE GLN GLU LEU TYR GLY ALA SER PRO ASP"
     ]
    }
   ],
   "source": [
    "with open('3AYU.pdb') as filename:\n",
    "    for line in filename.readlines():\n",
    "        file= line.split()\n",
    "        id=file[0]\n",
    "        if id=='SEQRES':\n",
    "            chain=file[2]\n",
    "            #print(chain)\n",
    "            if chain == 'A':\n",
    "                content=file[4:]\n",
    "                print(' '.join(content),end='')"
   ]
  },
  {
   "cell_type": "code",
   "execution_count": 17,
   "id": "a88740dd-744c-4c9a-abc1-ae4842dd9f04",
   "metadata": {},
   "outputs": [
    {
     "data": {
      "text/plain": [
       "\u001b[0;31mType:\u001b[0m        str\n",
       "\u001b[0;31mString form:\u001b[0m END\n",
       "\u001b[0;31mLength:\u001b[0m      3\n",
       "\u001b[0;31mDocstring:\u001b[0m  \n",
       "str(object='') -> str\n",
       "str(bytes_or_buffer[, encoding[, errors]]) -> str\n",
       "\n",
       "Create a new string object from the given object. If encoding or\n",
       "errors is specified, then the object must expose a data buffer\n",
       "that will be decoded using the given encoding and error handler.\n",
       "Otherwise, returns the result of object.__str__() (if defined)\n",
       "or repr(object).\n",
       "encoding defaults to sys.getdefaultencoding().\n",
       "errors defaults to 'strict'.\n"
      ]
     },
     "metadata": {},
     "output_type": "display_data"
    }
   ],
   "source": [
    "?id"
   ]
  },
  {
   "cell_type": "code",
   "execution_count": 14,
   "id": "d0996c56-7116-48ce-afc0-e8777366715d",
   "metadata": {},
   "outputs": [
    {
     "name": "stdout",
     "output_type": "stream",
     "text": [
      "1\n",
      "1\n",
      "1\n"
     ]
    }
   ],
   "source": [
    "with open('3AYU.pdb') as filename:\n",
    "    for line in filename.readlines():\n",
    "        file= line.split()\n",
    "        id=file[0]\n",
    "        if id=='HELIX':\n",
    "            chain=file[4]\n",
    "            if chain =='A':\n",
    "                count=chain.count('A')\n",
    "                print(count)\n",
    "                \n",
    "                \n",
    "            # chain=file[4]\n",
    "            # print(len(chain),end='')\n",
    "                                \n",
    "            # count=[]\n",
    "            # if chain =='A':\n",
    "            #     for j in chain:\n",
    "            #         count.extend(j)\n",
    "            #print(count)\n",
    "                #print(file[4].count('A'),end='')\n",
    "               # print((chain))\n",
    "                \n",
    "                \n",
    "                \n",
    "                \n",
    "                \n",
    "                #print(helix)\n",
    "                #content=file[0:]\n",
    "           # stre=str(content)\n",
    "            #print(stre)\n",
    "            \n",
    "#                 helices='\\t'.join(content)\n",
    "#                 print(helices)\n",
    "            "
   ]
  },
  {
   "cell_type": "code",
   "execution_count": 19,
   "id": "af18f2ce-51da-4978-95be-3b98206717cc",
   "metadata": {},
   "outputs": [],
   "source": [
    "if id in file =='HELIX':\n",
    "            chain=file[4]\n",
    "            if chain =='A':\n",
    "                count=chain.count('A')\n",
    "                print(count)"
   ]
  },
  {
   "cell_type": "code",
   "execution_count": 18,
   "id": "af476ca5-963d-4e16-aa42-00d8e0249230",
   "metadata": {},
   "outputs": [
    {
     "ename": "NameError",
     "evalue": "name 'helices' is not defined",
     "output_type": "error",
     "traceback": [
      "\u001b[0;31m---------------------------------------------------------------------------\u001b[0m",
      "\u001b[0;31mNameError\u001b[0m                                 Traceback (most recent call last)",
      "\u001b[0;32m/tmp/ipykernel_10270/2872908980.py\u001b[0m in \u001b[0;36m<module>\u001b[0;34m\u001b[0m\n\u001b[0;32m----> 1\u001b[0;31m \u001b[0mtype\u001b[0m\u001b[0;34m(\u001b[0m\u001b[0mhelices\u001b[0m\u001b[0;34m)\u001b[0m\u001b[0;34m\u001b[0m\u001b[0;34m\u001b[0m\u001b[0m\n\u001b[0m",
      "\u001b[0;31mNameError\u001b[0m: name 'helices' is not defined"
     ]
    }
   ],
   "source": [
    "type(helices)"
   ]
  },
  {
   "cell_type": "code",
   "execution_count": 10,
   "id": "0307feca-c196-47a6-9e12-d403a0e71352",
   "metadata": {},
   "outputs": [
    {
     "data": {
      "text/plain": [
       "1"
      ]
     },
     "execution_count": 10,
     "metadata": {},
     "output_type": "execute_result"
    }
   ],
   "source": [
    "len(helices[4])"
   ]
  },
  {
   "cell_type": "code",
   "execution_count": 19,
   "id": "320f4c3b-5649-4fcf-ad89-24495eabf416",
   "metadata": {},
   "outputs": [],
   "source": [
    "y=['a','b']"
   ]
  },
  {
   "cell_type": "code",
   "execution_count": 21,
   "id": "bbc440fa-d23d-44a3-abd1-7dd4ef3821dc",
   "metadata": {},
   "outputs": [
    {
     "ename": "AttributeError",
     "evalue": "'list' object has no attribute 'rindex'",
     "output_type": "error",
     "traceback": [
      "\u001b[0;31m---------------------------------------------------------------------------\u001b[0m",
      "\u001b[0;31mAttributeError\u001b[0m                            Traceback (most recent call last)",
      "\u001b[0;32m/tmp/ipykernel_8441/3362284950.py\u001b[0m in \u001b[0;36m<module>\u001b[0;34m\u001b[0m\n\u001b[0;32m----> 1\u001b[0;31m \u001b[0my\u001b[0m\u001b[0;34m.\u001b[0m\u001b[0mrindex\u001b[0m\u001b[0;34m(\u001b[0m\u001b[0;34m'b'\u001b[0m\u001b[0;34m)\u001b[0m\u001b[0;34m\u001b[0m\u001b[0;34m\u001b[0m\u001b[0m\n\u001b[0m",
      "\u001b[0;31mAttributeError\u001b[0m: 'list' object has no attribute 'rindex'"
     ]
    }
   ],
   "source": [
    "y"
   ]
  },
  {
   "cell_type": "code",
   "execution_count": 22,
   "id": "ef3069de-24a2-4fdf-9104-63884bae7138",
   "metadata": {},
   "outputs": [
    {
     "data": {
      "text/plain": [
       "'b'"
      ]
     },
     "execution_count": 22,
     "metadata": {},
     "output_type": "execute_result"
    }
   ],
   "source": [
    "y[-1]"
   ]
  },
  {
   "cell_type": "code",
   "execution_count": 4,
   "id": "60028023-dc74-477c-b367-7f972cec402e",
   "metadata": {},
   "outputs": [
    {
     "ename": "AttributeError",
     "evalue": "'str' object has no attribute 'reverseindex'",
     "output_type": "error",
     "traceback": [
      "\u001b[0;31m---------------------------------------------------------------------------\u001b[0m",
      "\u001b[0;31mAttributeError\u001b[0m                            Traceback (most recent call last)",
      "\u001b[0;32m/tmp/ipykernel_9004/2333737356.py\u001b[0m in \u001b[0;36m<module>\u001b[0;34m\u001b[0m\n\u001b[1;32m      1\u001b[0m \u001b[0my\u001b[0m\u001b[0;34m=\u001b[0m\u001b[0;34m'acdfb'\u001b[0m\u001b[0;34m\u001b[0m\u001b[0;34m\u001b[0m\u001b[0m\n\u001b[0;32m----> 2\u001b[0;31m \u001b[0my\u001b[0m\u001b[0;34m.\u001b[0m\u001b[0mreverseindex\u001b[0m\u001b[0;34m(\u001b[0m\u001b[0;34m'b'\u001b[0m\u001b[0;34m)\u001b[0m\u001b[0;34m\u001b[0m\u001b[0;34m\u001b[0m\u001b[0m\n\u001b[0m",
      "\u001b[0;31mAttributeError\u001b[0m: 'str' object has no attribute 'reverseindex'"
     ]
    }
   ],
   "source": [
    "y='acdfb'\n",
    "y.reverseindex('b')"
   ]
  },
  {
   "cell_type": "code",
   "execution_count": null,
   "id": "52c6f384-ce0b-430a-ae57-d719fc1793af",
   "metadata": {},
   "outputs": [],
   "source": []
  },
  {
   "cell_type": "code",
   "execution_count": null,
   "id": "7a4b2706-6be9-4a58-b295-2c3b718ed527",
   "metadata": {},
   "outputs": [],
   "source": []
  }
 ],
 "metadata": {
  "kernelspec": {
   "display_name": "Python 3 (ipykernel)",
   "language": "python",
   "name": "python3"
  },
  "language_info": {
   "codemirror_mode": {
    "name": "ipython",
    "version": 3
   },
   "file_extension": ".py",
   "mimetype": "text/x-python",
   "name": "python",
   "nbconvert_exporter": "python",
   "pygments_lexer": "ipython3",
   "version": "3.9.7"
  }
 },
 "nbformat": 4,
 "nbformat_minor": 5
}
