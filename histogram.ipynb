{
 "cells": [
  {
   "cell_type": "code",
   "execution_count": 1,
   "id": "cc45f438-bca6-4065-9a94-0c9992f527c9",
   "metadata": {},
   "outputs": [],
   "source": [
    "def histogram():\n",
    "    print(f': H')\n",
    "    print('Choose an option to order by:')\n",
    "    print('%3s number of amino acids - ascending  (an)' %'')\n",
    "    print('%3s number of amino acids - descending (dn)' %'')\n",
    "    print('%3s alphabetically - ascending         (aa)' %'')\n",
    "    print('%3s alphabetically - descending        (da)' %'')\n",
    "    sortby=input('order by:')\n",
    "    aaseqmainstr=[]\n",
    "    allaaseqlist=[]\n",
    "    amino={}\n",
    "    aminolist=[]\n",
    "    amino_dict={}\n",
    "    for line in open('3AYU.pdb').readlines():\n",
    "        listlines= line.split()\n",
    "        colname=listlines[0]\n",
    "        if colname == 'SEQRES':\n",
    "            chain=listlines[4:]\n",
    "            aaseqmainstr.append(' '.join(chain).split())\n",
    "    #print(aaseqmainstr)\n",
    "    for i in aaseqmainstr:\n",
    "        allaaseqlist+=i\n",
    "    #print(allaaseqlist)\n",
    "    amino=set(allaaseqlist)\n",
    "    aminolist=list(amino)\n",
    "    \n",
    "    for i in aminolist:\n",
    "        amino_dict[i]=allaaseqlist.count(i)\n",
    "    \n",
    "    if sortby == 'aa' :\n",
    "        aminolist.sort()\n",
    "        for i in aminolist:   \n",
    "            print(\"{:4s} {:1s} {:2d} {:2s} {:2} {:2}\".format(i,'(',(allaaseqlist.count(i)),')',':',('*'*allaaseqlist.count(i))))\n",
    "    if sortby == 'da' :\n",
    "        aminolist.sort(reverse=True)\n",
    "        for i in aminolist:   \n",
    "            print(\"{:4s} {:1s} {:2d} {:2s} {:2} {:2}\".format(i,'(',(allaaseqlist.count(i)),')',':',('*'*allaaseqlist.count(i))))\n",
    "    \n",
    "    if sortby == 'an':\n",
    "        amino_dict_sorted=sorted(amino_dict.items(), key=lambda x: x[1])\n",
    "        for j in amino_dict_sorted:\n",
    "            print(\"{:4s} {:1s} {:2d} {:2s} {:2s} {:2s}\".format((j[0]),'(',(j[1]),')',':',('*'*allaaseqlist.count(j[0]))))\n",
    "\n",
    "    if sortby == 'dn' :\n",
    "        amino_dict_sorted=sorted(amino_dict.items(), key=lambda x: x[1],reverse=True)\n",
    "        for j in amino_dict_sorted:\n",
    "            print(\"{:4s} {:1s} {:2d} {:2s} {:2s} {:2s}\".format((j[0]),'(',(j[1]),')',':',('*'*allaaseqlist.count(j[0]))))\n",
    "\n",
    "\n"
   ]
  },
  {
   "cell_type": "code",
   "execution_count": 2,
   "id": "4effe639-02b8-49f9-9dd9-cd5ac81e4c16",
   "metadata": {},
   "outputs": [
    {
     "name": "stdout",
     "output_type": "stream",
     "text": [
      ": H\n",
      "Choose an option to order by:\n",
      "    number of amino acids - ascending  (an)\n",
      "    number of amino acids - descending (dn)\n",
      "    alphabetically - ascending         (aa)\n",
      "    alphabetically - descending        (da)\n"
     ]
    },
    {
     "name": "stdin",
     "output_type": "stream",
     "text": [
      "order by: an\n"
     ]
    },
    {
     "name": "stdout",
     "output_type": "stream",
     "text": [
      "TRP  (  4 )  :  ****\n",
      "MET  (  4 )  :  ****\n",
      "ASN  (  5 )  :  *****\n",
      "GLN  (  5 )  :  *****\n",
      "GLU  (  6 )  :  ******\n",
      "VAL  (  6 )  :  ******\n",
      "HIS  (  7 )  :  *******\n",
      "ARG  (  7 )  :  *******\n",
      "LYS  (  7 )  :  *******\n",
      "SER  (  8 )  :  ********\n",
      "THR  (  8 )  :  ********\n",
      "TYR  (  9 )  :  *********\n",
      "ILE  ( 10 )  :  **********\n",
      "PRO  ( 11 )  :  ***********\n",
      "PHE  ( 12 )  :  ************\n",
      "LEU  ( 13 )  :  *************\n",
      "ALA  ( 15 )  :  ***************\n",
      "ASP  ( 20 )  :  ********************\n",
      "GLY  ( 20 )  :  ********************\n"
     ]
    }
   ],
   "source": [
    "histogram()"
   ]
  },
  {
   "cell_type": "code",
   "execution_count": null,
   "id": "79b2b7f8-8129-42e1-9372-96657cd51a49",
   "metadata": {},
   "outputs": [],
   "source": []
  }
 ],
 "metadata": {
  "kernelspec": {
   "display_name": "Python 3 (ipykernel)",
   "language": "python",
   "name": "python3"
  },
  "language_info": {
   "codemirror_mode": {
    "name": "ipython",
    "version": 3
   },
   "file_extension": ".py",
   "mimetype": "text/x-python",
   "name": "python",
   "nbconvert_exporter": "python",
   "pygments_lexer": "ipython3",
   "version": "3.9.7"
  }
 },
 "nbformat": 4,
 "nbformat_minor": 5
}
