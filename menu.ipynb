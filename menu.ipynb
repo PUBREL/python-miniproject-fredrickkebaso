{
 "cells": [
  {
   "cell_type": "code",
   "execution_count": 18,
   "id": "743c11c5-d486-458e-9f1a-92eff97323cd",
   "metadata": {},
   "outputs": [
    {
     "name": "stdout",
     "output_type": "stream",
     "text": [
      "********************************************************************************\n",
      "* PDB FILE ANALYZER                                                            *\n",
      "********************************************************************************\n",
      "* Select an option from below:                                                 *\n",
      "*                                                                              *\n",
      "*       1) Open a PDB File                        (O)                          *\n",
      "*       2) Information                            (I)                          *\n",
      "*       3) Show histogram of amino acids          (H)                          *\n",
      "*       4) Display Secondary Structure            (S)                          *\n",
      "*       5) Export PDB File                        (X)                          *\n",
      "*       6) Exit                                   (Q)                          *\n",
      "*                                                                              *\n",
      "*                                                             Current PDB:None * \n",
      "********************************************************************************\n"
     ]
    },
    {
     "name": "stdin",
     "output_type": "stream",
     "text": [
      ": 6\n"
     ]
    },
    {
     "name": "stdout",
     "output_type": "stream",
     "text": [
      "No file loaded, Choose 1 or o to a load a file\n",
      "********************************************************************************\n",
      "* PDB FILE ANALYZER                                                            *\n",
      "********************************************************************************\n",
      "* Select an option from below:                                                 *\n",
      "*                                                                              *\n",
      "*       1) Open a PDB File                        (O)                          *\n",
      "*       2) Information                            (I)                          *\n",
      "*       3) Show histogram of amino acids          (H)                          *\n",
      "*       4) Display Secondary Structure            (S)                          *\n",
      "*       5) Export PDB File                        (X)                          *\n",
      "*       6) Exit                                   (Q)                          *\n",
      "*                                                                              *\n",
      "*                                                             Current PDB:None * \n",
      "********************************************************************************\n"
     ]
    },
    {
     "name": "stdin",
     "output_type": "stream",
     "text": [
      ": 5\n"
     ]
    }
   ],
   "source": [
    "filename='None'\n",
    "def menu():\n",
    "    print(\"*\" * 80)\n",
    "    print(\"* PDB FILE ANALYZER %60s\" %'*')\n",
    "    print(\"*\" * 80)\n",
    "    print(\"* Select an option from below:%50s\" %'*')\n",
    "    print(\"*%79s\" %'*')\n",
    "    print(\"* %5s 1) Open a PDB File %22s (O) %26s\" %('','','*'))\n",
    "    print(\"* %5s 2) Information %26s (I) %26s\"  %('','','*'))\n",
    "    print(\"* %5s 3) Show histogram of amino acids %8s (H) %26s\"  %('','','*'))\n",
    "    print(\"* %5s 4) Display Secondary Structure %10s (S) %26s\"  %('','','*'))\n",
    "    print(\"* %5s 5) Export PDB File %22s (X) %26s\"  %('','','*'))\n",
    "    print(\"* %5s 6) Exit  %32s (Q) %26s\"  %('','','*'))\n",
    "    print(\"* %78s\" %'*')\n",
    "    print(f\"* {('Current PDB:'+ filename).rjust(76)} * \")\n",
    "    #print(\"* %57s Current PDB: %s  * \" %('',filename))\n",
    "    print(\"*\" * 80)\n",
    "    return input(\":\")\n",
    "\n",
    "option=menu()\n",
    "memory=''\n",
    "options=['i','h','s','x','q']\n",
    "if option.lower() != 'e':\n",
    "    if option.lower() in ('o','r'):\n",
    "        filename=input(\"Enter a Valid PATH for a PDB File:\")\n",
    "        if filename.endswith('.pdb'):\n",
    "            try:\n",
    "                file= open(filename)\n",
    "            except FileNotFoundError:\n",
    "                print('No such File or Directory')\n",
    "            else:\n",
    "                \n",
    "                memory+=filename\n",
    "                print(f'The File {filename} has been successfully loaded.')\n",
    "                \n",
    "                if len(memory)!=0:\n",
    "                    print(\"Enter analysis option\")\n",
    "                    choice=menu()\n",
    "                    for choice in options:\n",
    "                        if choice.lower() in ('i','2'):\n",
    "                            print('information()')\n",
    "                        if choice.lower() in ('h','3'):\n",
    "                            print('histogram()')\n",
    "                        if choice.lower() in ('s','4'):\n",
    "                            print(\"Secondary structure\")\n",
    "                        if input(\"Do you want to exit(e) or do you want go back to the menu (m)\") =='m':\n",
    "                            menu()\n",
    "                        else:\n",
    "                            break\n",
    "                        \n",
    "                else:\n",
    "                    print(f'The file ( {filename} ) already exists !!.Enter R to replace it')\n",
    "                    filename=input(\"Enter a Valid PATH for a PDB File:\")   \n",
    "        else:\n",
    "            print(\"File Format Not Supported. Only .pdb files !!! \") \n",
    "            option='e'\n",
    "    else:\n",
    "        print(\"No file loaded, Choose 1 or o to a load a file\")\n",
    "    \n",
    "else:\n",
    "    option=input(\"Do you want to exit(e) or do you want go back to the menu (m)\")"
   ]
  },
  {
   "cell_type": "code",
   "execution_count": null,
   "id": "8fb62cec-3c64-45d2-98bf-a0a058546fee",
   "metadata": {},
   "outputs": [],
   "source": []
  }
 ],
 "metadata": {
  "kernelspec": {
   "display_name": "Python 3 (ipykernel)",
   "language": "python",
   "name": "python3"
  },
  "language_info": {
   "codemirror_mode": {
    "name": "ipython",
    "version": 3
   },
   "file_extension": ".py",
   "mimetype": "text/x-python",
   "name": "python",
   "nbconvert_exporter": "python",
   "pygments_lexer": "ipython3",
   "version": "3.9.7"
  }
 },
 "nbformat": 4,
 "nbformat_minor": 5
}
