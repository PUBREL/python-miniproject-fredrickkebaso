{
 "cells": [
  {
   "cell_type": "code",
   "execution_count": 16,
   "id": "17f387d8-7756-4318-b598-ff14599b551d",
   "metadata": {},
   "outputs": [
    {
     "name": "stdout",
     "output_type": "stream",
     "text": [
      "********************************************************************************\n",
      "* PDB FILE ANALYZER                                                            *\n",
      "********************************************************************************\n",
      "* Select an option from below:                                                 *\n",
      "*                                                                              *\n",
      "*       1) Open a PDB File                        (O)                          *\n",
      "*       2) Information                            (I)                          *\n",
      "*       3) Show histogram of amino acids          (H)                          *\n",
      "*       4) Display Secondary Structure            (S)                          *\n",
      "*       5) Export PDB File                        (X)                          *\n",
      "*       6) Exit                                   (Q)                          *\n",
      "*                                                                              *\n",
      "*                                                             Current PDB:None * \n",
      "********************************************************************************\n"
     ]
    },
    {
     "name": "stdin",
     "output_type": "stream",
     "text": [
      ": o\n",
      "Enter a Valid PATH for a PDB File: 3AYU.pdb\n"
     ]
    },
    {
     "name": "stdout",
     "output_type": "stream",
     "text": [
      "The File 3AYU.pdb has been successfully loaded.\n",
      "********************************************************************************\n",
      "* PDB FILE ANALYZER                                                            *\n",
      "********************************************************************************\n",
      "* Select an option from below:                                                 *\n",
      "*                                                                              *\n",
      "*       1) Open a PDB File                        (O)                          *\n",
      "*       2) Information                            (I)                          *\n",
      "*       3) Show histogram of amino acids          (H)                          *\n",
      "*       4) Display Secondary Structure            (S)                          *\n",
      "*       5) Export PDB File                        (X)                          *\n",
      "*       6) Exit                                   (Q)                          *\n",
      "*                                                                              *\n",
      "*                                                         Current PDB:3AYU.pdb * \n",
      "********************************************************************************\n"
     ]
    },
    {
     "name": "stdin",
     "output_type": "stream",
     "text": [
      ": h\n"
     ]
    },
    {
     "name": "stdout",
     "output_type": "stream",
     "text": [
      "TITLE: CRYSTAL STRUCTURE OF MMP-2 ACTIVE SITE MUTANT IN COMPLEX WITH APP-2 DRIVED DECAPEPTIDE INHIBITOR \n",
      " -Chain A\n",
      "    Number of amino acids: 167\n",
      "    Number of helix:       3\n",
      "    Number of sheets:      9\n",
      "    Sequences:   YNFFPRKPKWDKNQITYRIIGYTPDLDPETVDDAFARAFQVWSDVTPLRF\n",
      "                 YNFFPRKPKWDKNQITYRIIGYTPDLDPETVDDAFARAFQVWSDVTPLRF\n",
      "                 SRIHDGEADIMINFGRWEHGDGYPFDGKDGLLAHAFAPGTGVGGDSHFDD\n",
      "                 DELWTLGKGVGYSLFLVAAHAFGHAMGLEHSQDPGALMAPIYTYTKNFRL\n",
      "                 SQDDIKGIQELYGASPD\n",
      " -Chain B\n",
      "    Number of amino acids: 10\n",
      "    Number of helix:       0\n",
      "    Number of sheets:      1\n",
      "    Sequences:   ISYGNDALMP\n"
     ]
    },
    {
     "name": "stdin",
     "output_type": "stream",
     "text": [
      "Do you want to exit(e) or do you want go back to the menu (m) e\n"
     ]
    }
   ],
   "source": [
    "\n",
    "\n",
    "def information():\n",
    "    string=''\n",
    "    aminocountlist = []\n",
    "    aaseq =[]\n",
    "    chains=[]\n",
    "    helixcount =''\n",
    "    sheetstr = ''\n",
    "    allaaseq={}\n",
    "    chain_type = []\n",
    "    output = []\n",
    "    translatedallseq={}\n",
    "    with open('./3AYU.pdb') as file:\n",
    "        for line in file.readlines():\n",
    "            strfile=line.split()\n",
    "            colname = strfile[0]        \n",
    "            if colname =='TITLE':\n",
    "                head=' '.join(strfile[1:])\n",
    "                string+=head\n",
    "            if colname =='SEQRES':\n",
    "                aminocounts=f'{strfile[2]}:{strfile[3]}'\n",
    "                #print(aminocounts)\n",
    "                aminocountlist.append(aminocounts)\n",
    "                chain_aminonum_list={strfile[2]:strfile[4:]}\n",
    "                #print(amino)\n",
    "                aaseq.append(chain_aminonum_list)\n",
    "                for linelist in strfile[2]:\n",
    "                     chains.append(linelist)\n",
    "            if colname == 'HELIX':\n",
    "                chain = strfile[4]\n",
    "                helixcount+=chain\n",
    "            if colname == 'SHEET':\n",
    "                sheet = strfile[5]\n",
    "                sheetstr += sheet\n",
    "    amino_dictionary={\"ASN\":\"N\",\"MET\":\"M\",\"ASP\":\"D\",\"ASX\":\"B\",\"LYS\":\"K\",\"CYS\":\"C\",\"GLU\":\"E\",\"GLN\":\"Q\",\"GLX\":\"Z\",\"GLY\":\"G\",\"HIS\":\"H\",\"PRO\":\"P\",\"ILE\":\"I\",\"LEU\":\"L\",\n",
    "                        \"PHE\":\"F\",\"SER\":\"S\",\"THR\":\"T\",\"TRP\":\"W\",\"ARG\":\"R\",\"ARG\":\"R\",\"TYR\":\"Y\",\"VAL\":\"V\",\"ALA\":\"A\"}\n",
    "    for chain_amino in aaseq:\n",
    "        for chain,seq in chain_amino.items():\n",
    "            if chain in allaaseq.keys():\n",
    "                allaaseq[chain]+=seq\n",
    "            else:\n",
    "                allaaseq[chain]=seq\n",
    "\n",
    "    translatedallseq={k:''.join([amino_dictionary.get(v) for v in v]) for k,v in allaaseq.items()}\n",
    "\n",
    "    chainset=set(chains)\n",
    "    chainlist=list(chainset)\n",
    "    chainlist.sort()\n",
    "\n",
    "    aminocountlist = set(aminocountlist)\n",
    "    aminocountlist = list(aminocountlist)\n",
    "    aminocountlist.sort()\n",
    "\n",
    "    helixdict={}\n",
    "    for chain in chains:\n",
    "        for helix in helixcount:\n",
    "\n",
    "            if chain== helix:\n",
    "                helixdict[chain]=helixcount.count(helix)\n",
    "            elif chain not in helixcount:\n",
    "                helixdict[chain]=0\n",
    "\n",
    "    sheetdict={}\n",
    "    for chain in chains:\n",
    "        for sheet in sheetstr:\n",
    "            if chain== sheet:\n",
    "                sheetdict[chain]=sheetstr.count(sheet)\n",
    "            elif chain not in sheetstr:\n",
    "                sheetdict[chain]=0\n",
    "\n",
    "    aminonodict={}\n",
    "\n",
    "    for chain in chainlist:\n",
    "        for num in aminocountlist:\n",
    "                if chain==num[0]:\n",
    "                    aminonodict[chain]=num[2:]\n",
    "\n",
    "    sorted(helixdict.keys())\n",
    "\n",
    "    print('TITLE: %s '%string)\n",
    "    for chain in chainlist:\n",
    "        print(f\" -Chain {chain}\")\n",
    "        print('%3s Number of amino acids: %s' %('',aminonodict.get(chain)))\n",
    "        print('%3s Number of helix:%8s%s' %('',(helixdict.get(chain)),''))\n",
    "        print('%3s Number of sheets:%7s%s' %('',(sheetdict[chain]),''))\n",
    "\n",
    "        if len(translatedallseq.get(chain)) > 50:\n",
    "            for word in range (0, len(translatedallseq.get(chain)),50):\n",
    "                print('%3s Sequences:  '%(''),(translatedallseq.get(chain)[0:50]))\n",
    "                break\n",
    "            for word in range (0, len(translatedallseq.get(chain)),50):\n",
    "                print('%14s  '%(''),(translatedallseq.get(chain)[word:word+50]))\n",
    "\n",
    "        else:\n",
    "            print('%3s Sequences:  '%(''),(translatedallseq.get(chain)))\n"
   ]
  },
  {
   "cell_type": "code",
   "execution_count": 12,
   "id": "5f879ae2-7a2d-44a4-9acd-20fce9d11892",
   "metadata": {},
   "outputs": [
    {
     "name": "stdout",
     "output_type": "stream",
     "text": [
      "TITLE: CRYSTAL STRUCTURE OF MMP-2 ACTIVE SITE MUTANT IN COMPLEX WITH APP-2 DRIVED DECAPEPTIDE INHIBITOR \n",
      " -Chain A\n",
      "    Number of amino acids: 167\n",
      "    Number of helix:       3\n",
      "    Number of sheets:      9\n",
      "    Sequences:   YNFFPRKPKWDKNQITYRIIGYTPDLDPETVDDAFARAFQVWSDVTPLRF\n",
      "                 YNFFPRKPKWDKNQITYRIIGYTPDLDPETVDDAFARAFQVWSDVTPLRF\n",
      "                 SRIHDGEADIMINFGRWEHGDGYPFDGKDGLLAHAFAPGTGVGGDSHFDD\n",
      "                 DELWTLGKGVGYSLFLVAAHAFGHAMGLEHSQDPGALMAPIYTYTKNFRL\n",
      "                 SQDDIKGIQELYGASPD\n",
      " -Chain B\n",
      "    Number of amino acids: 10\n",
      "    Number of helix:       0\n",
      "    Number of sheets:      1\n",
      "    Sequences:   ISYGNDALMP\n"
     ]
    }
   ],
   "source": [
    "information()"
   ]
  },
  {
   "cell_type": "code",
   "execution_count": null,
   "id": "ce17b97d-e6cf-4272-9987-7074111f15c9",
   "metadata": {},
   "outputs": [],
   "source": []
  },
  {
   "cell_type": "code",
   "execution_count": null,
   "id": "c717e1a4-7372-4727-9640-36f95c9f1fd4",
   "metadata": {},
   "outputs": [],
   "source": [
    "\n"
   ]
  }
 ],
 "metadata": {
  "kernelspec": {
   "display_name": "Python 3 (ipykernel)",
   "language": "python",
   "name": "python3"
  },
  "language_info": {
   "codemirror_mode": {
    "name": "ipython",
    "version": 3
   },
   "file_extension": ".py",
   "mimetype": "text/x-python",
   "name": "python",
   "nbconvert_exporter": "python",
   "pygments_lexer": "ipython3",
   "version": "3.9.7"
  }
 },
 "nbformat": 4,
 "nbformat_minor": 5
}
